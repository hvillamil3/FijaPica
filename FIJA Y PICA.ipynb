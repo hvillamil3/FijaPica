{
 "cells": [
  {
   "cell_type": "code",
   "execution_count": 1,
   "metadata": {
    "collapsed": true
   },
   "outputs": [],
   "source": [
    "import random as rd\n",
    "import itertools as it\n",
    "import numpy as np\n",
    "import matplotlib.pyplot as plt\n",
    "%matplotlib inline"
   ]
  },
  {
   "cell_type": "code",
   "execution_count": 2,
   "metadata": {
    "collapsed": false
   },
   "outputs": [],
   "source": [
    "pl2 = [rd.randint(0,9),rd.randint(0,9),rd.randint(0,9),rd.randint(0,9)]"
   ]
  },
  {
   "cell_type": "code",
   "execution_count": 3,
   "metadata": {
    "collapsed": false
   },
   "outputs": [
    {
     "name": "stdout",
     "output_type": "stream",
     "text": [
      "5\n",
      "10\n",
      "15\n"
     ]
    },
    {
     "data": {
      "text/plain": [
       "[2061.0,\n",
       " 6985.5,\n",
       " 5544.666666666667,\n",
       " 5076.25,\n",
       " 6468.1999999999998,\n",
       " 3368.6666666666665,\n",
       " 5959.1428571428569,\n",
       " 3969.375,\n",
       " 4265.666666666667,\n",
       " 6540.3999999999996,\n",
       " 6436.818181818182,\n",
       " 5661.25,\n",
       " 5552.6153846153848,\n",
       " 6608.5,\n",
       " 4642.8000000000002]"
      ]
     },
     "execution_count": 3,
     "metadata": {},
     "output_type": "execute_result"
    }
   ],
   "source": [
    "all_possible = list([int(w),int(x),int(y),int(z)] for w,x,y,z in it.product('0123456789','0123456789','0123456789','0123456789'))\n",
    "#shuffle to make random guesses where you try every possible combination\n",
    "dd=all_possible.copy()\n",
    "rd.shuffle(dd)\n",
    "#dd\n",
    "gg = []\n",
    "for sample in range(15):\n",
    "    if (sample+1)%5==0:\n",
    "        print(sample+1)\n",
    "    cc=0\n",
    "    rounds=[]\n",
    "    while cc<sample+1:\n",
    "        rd.shuffle(dd)\n",
    "        for index,gus in enumerate(dd):\n",
    "            #gus = Y#[rd.randint(0,9),rd.randint(0,9),rd.randint(0,9),rd.randint(0,9)]\n",
    "            #print(gus)\n",
    "            fijas = 0\n",
    "            picas = 0\n",
    "            for z in set(gus):\n",
    "                #print(z)\n",
    "                fij = len(set([i for i,x in enumerate(pl2) if x == z]\\\n",
    "                             ).intersection([i for i,x in enumerate(gus) if x == z]))\n",
    "                if fij>0:\n",
    "                #print(fij)\n",
    "                    fijas += fij\n",
    "                else:\n",
    "                    if z in pl2:\n",
    "                        picas += 1\n",
    "            #print('fijas:',fijas,',','picas:',picas)\n",
    "            if fijas ==4:\n",
    "                rounds.append(index)\n",
    "                #print(index,gus)\n",
    "                #print('fijas:',fijas,',','picas:',picas)\n",
    "                break\n",
    "        cc +=1\n",
    "    gg.append(np.mean(rounds))\n",
    "gg"
   ]
  },
  {
   "cell_type": "code",
   "execution_count": 4,
   "metadata": {
    "collapsed": false
   },
   "outputs": [
    {
     "data": {
      "text/plain": [
       "(array([ 1.,  0.,  1.,  1.,  1.,  1.,  1.,  4.,  2.,  3.]),\n",
       " array([ 2061.  ,  2553.45,  3045.9 ,  3538.35,  4030.8 ,  4523.25,\n",
       "         5015.7 ,  5508.15,  6000.6 ,  6493.05,  6985.5 ]),\n",
       " <a list of 10 Patch objects>)"
      ]
     },
     "execution_count": 4,
     "metadata": {},
     "output_type": "execute_result"
    },
    {
     "data": {
      "image/png": "[encoded data removed]",
      "text/plain": [
       "<matplotlib.figure.Figure at 0x228a14d1438>"
      ]
     },
     "metadata": {},
     "output_type": "display_data"
    }
   ],
   "source": [
    "#plt.plot(gg)\n",
    "plt.hist(gg)"
   ]
  },
  {
   "cell_type": "code",
   "execution_count": 5,
   "metadata": {
    "collapsed": false
   },
   "outputs": [
    {
     "data": {
      "text/plain": [
       "5276.0567615717619"
      ]
     },
     "execution_count": 5,
     "metadata": {},
     "output_type": "execute_result"
    }
   ],
   "source": [
    "np.mean(gg)"
   ]
  },
  {
   "cell_type": "code",
   "execution_count": 6,
   "metadata": {
    "collapsed": false
   },
   "outputs": [],
   "source": [
    "def testguess(answer,guess):\n",
    "    '''returns [SumFijaPica, Fija, Pica]'''\n",
    "    fijas = 0\n",
    "    picas = 0\n",
    "    for z in set(guess):\n",
    "        fij = len(set([i for i,x in enumerate(answer) if x == z]\\\n",
    "                     ).intersection([i for i,x in enumerate(guess) if x == z]))\n",
    "        if fij>0:\n",
    "            fijas += fij\n",
    "            if fijas ==4:\n",
    "                print(guess,'WIN')\n",
    "                break  \n",
    "        else:\n",
    "            if z in answer:\n",
    "                picas += 1\n",
    "    return [fijas+picas,fijas,picas]"
   ]
  },
  {
   "cell_type": "code",
   "execution_count": 7,
   "metadata": {
    "collapsed": false
   },
   "outputs": [],
   "source": [
    "def evaluate(current,new):\n",
    "    ''' Used to evaluate change in guesses\n",
    "    [SUM_fijaPica, Fija, Pica]'''\n",
    "    return [b-a for a, b in zip(testguess(pl2,current), testguess(pl2,new))]"
   ]
  },
  {
   "cell_type": "code",
   "execution_count": 8,
   "metadata": {
    "collapsed": false
   },
   "outputs": [],
   "source": [
    "def fijas(answer,guess):\n",
    "    \"\"\"solves for 1 fija if have a pica\"\"\"\n",
    "    for x in range(26):\n",
    "        t =testguess(answer,guess)\n",
    "        #print([x,guess,testguess(answer,guess)])\n",
    "        if t[0]==0:\n",
    "            print('Nothing!')\n",
    "            break\n",
    "        if t[1]>0:\n",
    "            print('rounds ->',x+1,',fija:',\\\n",
    "                  testguess(answer,guess)[1],'pica:',testguess(answer,guess)[2],'sum_fp:',t[0])\n",
    "            return [guess,testguess(answer,guess),'rounds->',x+1]\n",
    "            break\n",
    "        else:\n",
    "            guess.append(guess.pop(0))"
   ]
  },
  {
   "cell_type": "code",
   "execution_count": 9,
   "metadata": {
    "collapsed": true
   },
   "outputs": [],
   "source": [
    "pl2 = [rd.randint(0,9),rd.randint(0,9),rd.randint(0,9),rd.randint(0,9)]"
   ]
  },
  {
   "cell_type": "code",
   "execution_count": 10,
   "metadata": {
    "collapsed": false
   },
   "outputs": [
    {
     "data": {
      "text/plain": [
       "[3, 4, 7, 0]"
      ]
     },
     "execution_count": 10,
     "metadata": {},
     "output_type": "execute_result"
    }
   ],
   "source": [
    "pl2 #[9, 6, 6, 6]"
   ]
  },
  {
   "cell_type": "code",
   "execution_count": 11,
   "metadata": {
    "collapsed": true
   },
   "outputs": [],
   "source": [
    "def holdSwap(lis, hold,howmany=2):\n",
    "    \"\"\"Returns list of 4 digits holding the positions provided and switching the other digits\"\"\"\n",
    "    m=[y for y in range(4) if y not in hold]\n",
    "    #print(m)\n",
    "    if howmany==2:\n",
    "        x=[0,0,0,0]\n",
    "        x[hold[0]]=lis[hold[0]]\n",
    "        x[hold[1]]=lis[hold[1]]\n",
    "        x[m[0]]=lis[m[1]]\n",
    "        x[m[1]]=lis[m[0]]\n",
    "        return x"
   ]
  },
  {
   "cell_type": "code",
   "execution_count": 12,
   "metadata": {
    "collapsed": true
   },
   "outputs": [],
   "source": [
    "def addnewNumber(lis,position=0):\n",
    "    \"\"\"Return new sequence where a Fija or pica is gained from adding new number\"\"\"\n",
    "    m=sorted([y for y in range(10) if y not in lis],reverse=True)\n",
    "    print(m)\n",
    "    x=lis.copy()\n",
    "    #print(x,m,'pos',position)\n",
    "    testround=0\n",
    "    #enumerate doesnt work for rounds because I wont check a number that is already in same spot.\n",
    "    for l in m:\n",
    "        #print(l,x[position],x[position]!=l)\n",
    "        if x[position]!=l:\n",
    "            x[position]=l\n",
    "        #print(evaluate(lis,x),lis,x,position)\n",
    "            if evaluate(lis,x)[1]<0 and evaluate(lis,x)[0]<0: #if fija lost and fijapica lost..\n",
    "                position+=1\n",
    "                x=lis.copy()\n",
    "                testround+=1\n",
    "                #print('return','pos',position)\n",
    "                print('AddnewNumber Tried {}: FAILED, rolledback, +1 position , +1 Round,-1Fija,-1SumFP'.format(l))\n",
    "            elif evaluate(lis,x)[1]<0 and evaluate(lis,x)[0]>=0:#if fija lost but gain pica..that number still good...\n",
    "                position+=1\n",
    "                x=lis.copy()\n",
    "                m.append(l)\n",
    "                testround+=1\n",
    "                #print('return but..','pos',position)\n",
    "                print('AddnewNumber Tried {}: FAILED..sorta, rolledback,new#putback, +1 position , +1 Round,-1Fija,0+SumFP'.format(l))\n",
    "            elif evaluate(lis,x)[0]>0:#if sumfija or pica!\n",
    "                testround+=1\n",
    "                #print('round :',testround)\n",
    "                print('AddnewNumber Tried {}: SUCCESS!, updated, +0 position , +1 Round,+1Fija'.format(l))\n",
    "                return [x,position,testround]\n",
    "            else:\n",
    "                testround+=1\n",
    "                print('AddnewNumber Tried {}: NO CHANGE, try another new number, +0 position , +1 Round,0+Fija'.format(l),evaluate(lis,x))"
   ]
  },
  {
   "cell_type": "code",
   "execution_count": 123,
   "metadata": {
    "collapsed": false
   },
   "outputs": [],
   "source": [
    "def repeats(lis,pos=0):\n",
    "#\"\"\"\"\"\"\n",
    "    posi=pos\n",
    "    b=lis.copy()\n",
    "    laps=0\n",
    "    for x in lis:\n",
    "        print('repBx',b[posi],x)\n",
    "        if b[posi]!=x:\n",
    "            b[posi]=x\n",
    "            print(evaluate(lis,b),lis,b,posi)\n",
    "            if evaluate(lis,b)[1]<0 and evaluate(lis,b)[0]<=0:\n",
    "                posi+=1\n",
    "                b=lis.copy()\n",
    "                laps+=1\n",
    "                print('Repeat Tried {}: FAILED, rolledback, +1 position , +1 Round,-1Fija,-1SumFP'.format(x))\n",
    "                return [b,posi,laps]\n",
    "            elif evaluate(lis,b)[1]>0:\n",
    "                print(evaluate(lis,b)[1]>0)\n",
    "                #lis=b cant reassign variable passed through a variable\n",
    "                print(lis,b,posi)\n",
    "                laps+=1\n",
    "                print('Repeat Tried {}: SUCCESS!, updated, +0 position , +1 Round,+1Fija'.format(x))\n",
    "                return [b,posi,laps]\n",
    "            else:\n",
    "                print('idk')\n",
    "                laps+=1\n",
    "                #lis.append(x)\n",
    "#posi+=1"
   ]
  },
  {
   "cell_type": "code",
   "execution_count": 104,
   "metadata": {
    "collapsed": false
   },
   "outputs": [
    {
     "data": {
      "text/plain": [
       "[0, 5, 7, 7]"
      ]
     },
     "execution_count": 104,
     "metadata": {},
     "output_type": "execute_result"
    }
   ],
   "source": [
    "pl2"
   ]
  },
  {
   "cell_type": "code",
   "execution_count": 116,
   "metadata": {
    "collapsed": false
   },
   "outputs": [
    {
     "name": "stdout",
     "output_type": "stream",
     "text": [
      "repBx 5 0\n",
      "[0, 0, 0] [0, 5, 5, 7] [0, 5, 0, 7] 2\n",
      "idk\n",
      "repBx 0 5\n",
      "[0, 0, 0] [0, 5, 5, 7] [0, 5, 5, 7] 2\n",
      "idk\n",
      "repBx 5 5\n",
      "repBx 5 7\n",
      "[0, 5, 7, 7] WIN\n",
      "[1, 1, 0] [0, 5, 5, 7] [0, 5, 7, 7] 2\n",
      "[0, 5, 7, 7] WIN\n",
      "[0, 5, 7, 7] WIN\n",
      "[0, 5, 7, 7] WIN\n",
      "True\n",
      "[0, 5, 5, 7] [0, 5, 7, 7] 2\n",
      "Repeat Tried 7: SUCCESS!, updated, +0 position , +1 Round,+1Fija\n"
     ]
    }
   ],
   "source": [
    "pl2 = [0,5,7,7]#[rd.randint(0,9),rd.randint(0,9),rd.randint(0,9),rd.randint(0,9)]\n",
    "\n",
    "#pop=[0, 5, 5, 7]\n",
    "#poss=0\n",
    "pop,poss=repeats(pop,poss)[:2]"
   ]
  },
  {
   "cell_type": "code",
   "execution_count": 16,
   "metadata": {
    "collapsed": false
   },
   "outputs": [],
   "source": [
    "pl2 = [rd.randint(0,9),rd.randint(0,9),rd.randint(0,9),rd.randint(0,9)]\n",
    "#pl2=[7,7,7,7]\n",
    "#pop = [0,1,2,3]\n",
    "pop=[rd.randint(0,9),rd.randint(0,9),rd.randint(0,9),rd.randint(0,9)]\n",
    "#fijas(pl2,pop)\n",
    "position=0\n",
    "rounds=1"
   ]
  },
  {
   "cell_type": "code",
   "execution_count": 17,
   "metadata": {
    "collapsed": false
   },
   "outputs": [
    {
     "name": "stdout",
     "output_type": "stream",
     "text": [
      "[8, 7, 3, 4]\n",
      "gain another fija\n",
      "[0, 1] [8, 7, 3, 4] [8, 7, 4, 3] [0, 1, -1]\n",
      "[2, 1, 1]\n",
      "we round: 2\n",
      "[8, 7, 4, 3] [2, 1, 1] ROUNDS: 2\n"
     ]
    }
   ],
   "source": [
    "#pl2=[9,6,6,6] \n",
    "#[0, 6, 8, 4]\n",
    "#pop=[0,1,2,3]#[4,5,6,7]#[0,1,2,3]\n",
    "#fijas(pl2,pop)\n",
    "#pop=[92]\n",
    "print(pop)\n",
    "\n",
    "if testguess(pl2,pop)[0]==testguess(pl2,pop)[1]: \n",
    "    #if sumfijapica==fija then need new number, have repeats, or have repeats of new numbers\n",
    "    if  addnewNumber(pop) is not None and addnewNumber(pop)[0] != pop:\n",
    "        print('get new number')# is not None:\n",
    "        print(position)\n",
    "        rounds+=addnewNumber(pop,position)[2]\n",
    "        pop,position = addnewNumber(pop,position)[:2]\n",
    "        print('we round:',rounds)\n",
    "    else:\n",
    "        print('repeats??')\n",
    "        print(position)\n",
    "        rounds+=repeats(pop,position)[2]\n",
    "        pop,position = repeats(pop,position)[:2]\n",
    "        print('we round:',rounds)\n",
    "\n",
    "else:\n",
    "    print('gain another fija')\n",
    "    for h in [ [int(x),int(y)] for x,y in it.combinations('0123',2)]:\n",
    "        contender = holdSwap(pop,h)\n",
    "        if evaluate(pop,contender)[1]>0:\n",
    "            print(h,pop,holdSwap(pop,h),evaluate(pop,contender))\n",
    "            pop = contender\n",
    "            print(testguess(pl2,pop))\n",
    "            rounds+=1\n",
    "            print('we round:',rounds)\n",
    "            break\n",
    "print(pop,testguess(pl2,pop),'ROUNDS:',rounds)"
   ]
  },
  {
   "cell_type": "markdown",
   "metadata": {},
   "source": [
    "# Simulate a game"
   ]
  },
  {
   "cell_type": "code",
   "execution_count": 124,
   "metadata": {
    "collapsed": false,
    "scrolled": false
   },
   "outputs": [
    {
     "name": "stdout",
     "output_type": "stream",
     "text": [
      "[9, 6, 4, 0] START!! [2, 0, 2]\n",
      "[9, 6, 4, 0] NEXT!!\n",
      "[2, 0, 2] ..can get a fija\n",
      "GainFija Tried [9, 6, 0, 4]: FAILED, try next combo, +0 position , +1 Round,-1/0Fija,0+SumFP\n",
      "we round: 2\n",
      "GainFija Tried [9, 0, 4, 6]: SUCCESS!, updated, +0 position , +1 Round,+1Fija,0+SumFP\n",
      "we round: 3\n",
      "[9, 0, 4, 6] [2, 1, 1] ROUND: 3\n",
      "[9, 0, 4, 6] NEXT!!\n",
      "[2, 1, 1] ..can get a fija\n",
      "GainFija Tried [9, 0, 6, 4]: FAILED, try next combo, +0 position , +1 Round,-1/0Fija,0+SumFP\n",
      "we round: 4\n",
      "GainFija Tried [9, 6, 4, 0]: FAILED, try next combo, +0 position , +1 Round,-1/0Fija,0+SumFP\n",
      "we round: 5\n",
      "GainFija Tried [9, 4, 0, 6]: FAILED, try next combo, +0 position , +1 Round,-1/0Fija,0+SumFP\n",
      "we round: 6\n",
      "GainFija Tried [6, 0, 4, 9]: FAILED, try next combo, +0 position , +1 Round,-1/0Fija,0+SumFP\n",
      "we round: 7\n",
      "GainFija Tried [4, 0, 9, 6]: SUCCESS!, updated, +0 position , +1 Round,+1Fija,0+SumFP\n",
      "we round: 8\n",
      "[4, 0, 9, 6] [2, 2, 0] ROUND: 8\n",
      "[4, 0, 9, 6] NEXT!!\n",
      "[8, 7, 5, 3, 2, 1]\n",
      "AddnewNumber Tried 8: FAILED, rolledback, +1 position , +1 Round,-1Fija,-1SumFP\n",
      "AddnewNumber Tried 7: NO CHANGE, try another new number, +0 position , +1 Round,0+Fija [0, 0, 0]\n",
      "AddnewNumber Tried 5: NO CHANGE, try another new number, +0 position , +1 Round,0+Fija [0, 0, 0]\n",
      "AddnewNumber Tried 3: NO CHANGE, try another new number, +0 position , +1 Round,0+Fija [0, 0, 0]\n",
      "AddnewNumber Tried 2: SUCCESS!, updated, +0 position , +1 Round,+1Fija\n",
      "[2, 2, 0] ..get new number\n",
      "[4, 2, 9, 6] [3, 3, 0] ROUND: 13\n",
      "[4, 2, 9, 6] NEXT!!\n",
      "[8, 7, 5, 3, 1, 0]\n",
      "AddnewNumber Tried 8: FAILED, rolledback, +1 position , +1 Round,-1Fija,-1SumFP\n",
      "AddnewNumber Tried 7: FAILED, rolledback, +1 position , +1 Round,-1Fija,-1SumFP\n",
      "AddnewNumber Tried 5: NO CHANGE, try another new number, +0 position , +1 Round,0+Fija [0, 0, 0]\n",
      "AddnewNumber Tried 3: NO CHANGE, try another new number, +0 position , +1 Round,0+Fija [0, 0, 0]\n",
      "AddnewNumber Tried 1: NO CHANGE, try another new number, +0 position , +1 Round,0+Fija [0, 0, 0]\n",
      "AddnewNumber Tried 0: NO CHANGE, try another new number, +0 position , +1 Round,0+Fija [0, 0, 0]\n",
      "[3, 3, 0] ..repeats??\n",
      "1\n",
      "repBx 2 4\n",
      "[-1, -1, 0] [4, 2, 9, 6] [4, 4, 9, 6] 1\n",
      "Repeat Tried 4: FAILED, rolledback, +1 position , +1 Round,-1Fija,-1SumFP\n",
      "[4, 2, 9, 6] [3, 3, 0] ROUND: 14\n",
      "[4, 2, 9, 6] NEXT!!\n",
      "[8, 7, 5, 3, 1, 0]\n",
      "AddnewNumber Tried 8: FAILED, rolledback, +1 position , +1 Round,-1Fija,-1SumFP\n",
      "AddnewNumber Tried 7: FAILED, rolledback, +1 position , +1 Round,-1Fija,-1SumFP\n",
      "AddnewNumber Tried 5: NO CHANGE, try another new number, +0 position , +1 Round,0+Fija [0, 0, 0]\n",
      "AddnewNumber Tried 3: NO CHANGE, try another new number, +0 position , +1 Round,0+Fija [0, 0, 0]\n",
      "AddnewNumber Tried 1: NO CHANGE, try another new number, +0 position , +1 Round,0+Fija [0, 0, 0]\n",
      "AddnewNumber Tried 0: NO CHANGE, try another new number, +0 position , +1 Round,0+Fija [0, 0, 0]\n",
      "[3, 3, 0] ..repeats??\n",
      "2\n",
      "repBx 9 4\n",
      "[0, 0, 0] [4, 2, 9, 6] [4, 2, 4, 6] 2\n",
      "idk\n",
      "repBx 4 2\n",
      "[4, 2, 2, 6] WIN\n",
      "[1, 1, 0] [4, 2, 9, 6] [4, 2, 2, 6] 2\n",
      "[4, 2, 2, 6] WIN\n",
      "[4, 2, 2, 6] WIN\n",
      "[4, 2, 2, 6] WIN\n",
      "True\n",
      "[4, 2, 9, 6] [4, 2, 2, 6] 2\n",
      "Repeat Tried 2: SUCCESS!, updated, +0 position , +1 Round,+1Fija\n",
      "[4, 2, 2, 6] WIN\n",
      "[4, 2, 2, 6] [4, 4, 0] ROUND: 16\n",
      "[4, 2, 2, 6] WIN\n"
     ]
    }
   ],
   "source": [
    "pl2 = [rd.randint(0,9),rd.randint(0,9),rd.randint(0,9),rd.randint(0,9)]\n",
    "\n",
    "pop=[rd.randint(0,9),rd.randint(0,9),rd.randint(0,9),rd.randint(0,9)]\n",
    "#[0, 5, 5, 7]\n",
    "position=0\n",
    "rounds=1\n",
    "print(pop,'START!!',testguess(pl2,pop))\n",
    "while testguess(pl2,pop)[1]!=4:\n",
    "    print(pop,'NEXT!!')\n",
    "\n",
    "    if testguess(pl2,pop)[0]==testguess(pl2,pop)[1]: \n",
    "        #if sumfijapica==fija then need new number, have repeats, or have repeats of new numbers\n",
    "        addNEW=addnewNumber(pop)\n",
    "        if  addNEW is not None and addNEW[0] != pop:\n",
    "            print(testguess(pl2,pop),'..get new number')# is not None:\n",
    "            #print(position)\n",
    "            rounds+=addNEW[2]\n",
    "            pop,position = addNEW[:2]\n",
    "            #print('we round:',rounds)\n",
    "        else:\n",
    "            print(testguess(pl2,pop),'..repeats??')\n",
    "            print(position)\n",
    "            repeatf=repeats(pop,position)\n",
    "            rounds+=repeatf[2]\n",
    "            pop,position = repeatf[:2]\n",
    "            #print('we round:',rounds)\n",
    "\n",
    "    else:\n",
    "        print(testguess(pl2,pop),'..can get a fija')\n",
    "        for h in [ [int(x),int(y)] for x,y in it.combinations('0123',2)]:\n",
    "            contender = holdSwap(pop,h)\n",
    "            if evaluate(pop,contender)[1]>0:\n",
    "                #print(h,pop,holdSwap(pop,h),evaluate(pop,contender))\n",
    "                print('GainFija Tried {}: SUCCESS!, updated, +0 position , +1 Round,+1Fija,0+SumFP'.format(contender))\n",
    "                pop = contender\n",
    "                #print(testguess(pl2,pop))\n",
    "                rounds+=1\n",
    "                print('we round:',rounds)\n",
    "                break\n",
    "            else:\n",
    "                rounds+=1\n",
    "                print('GainFija Tried {}: FAILED, try next combo, +0 position , +1 Round,-1/0Fija,0+SumFP'.format(contender))\n",
    "                print('we round:',rounds)\n",
    "    \n",
    "    print(pop,testguess(pl2,pop),'ROUND:',rounds)"
   ]
  },
  {
   "cell_type": "code",
   "execution_count": 62,
   "metadata": {
    "collapsed": false
   },
   "outputs": [
    {
     "data": {
      "text/plain": [
       "[0, 5, 5, 7]"
      ]
     },
     "execution_count": 62,
     "metadata": {},
     "output_type": "execute_result"
    }
   ],
   "source": [
    "pop"
   ]
  },
  {
   "cell_type": "code",
   "execution_count": 80,
   "metadata": {
    "collapsed": false
   },
   "outputs": [
    {
     "name": "stdout",
     "output_type": "stream",
     "text": [
      "[0, -1, 1] [0, 5, 5, 7] [0, 0, 5, 7] 1\n",
      "Repeat Tried 0: FAILED, rolledback, +1 position , +1 Round,-1Fija,-1SumFP\n"
     ]
    },
    {
     "data": {
      "text/plain": [
       "[[0, 5, 5, 7], 2, 1]"
      ]
     },
     "execution_count": 80,
     "metadata": {},
     "output_type": "execute_result"
    }
   ],
   "source": [
    "repeats(pop,1)"
   ]
  },
  {
   "cell_type": "code",
   "execution_count": 133,
   "metadata": {
    "collapsed": false
   },
   "outputs": [
    {
     "data": {
      "text/plain": [
       "722"
      ]
     },
     "execution_count": 133,
     "metadata": {},
     "output_type": "execute_result"
    }
   ],
   "source": [
    "len(Winrounds)"
   ]
  },
  {
   "cell_type": "markdown",
   "metadata": {},
   "source": [
    "# Simulate a lot of games"
   ]
  },
  {
   "cell_type": "code",
   "execution_count": 131,
   "metadata": {
    "collapsed": false
   },
   "outputs": [
    {
     "ename": "KeyboardInterrupt",
     "evalue": "",
     "output_type": "error",
     "traceback": [
      "\u001b[1;31m---------------------------------------------------------------------------\u001b[0m",
      "\u001b[1;31mKeyboardInterrupt\u001b[0m                         Traceback (most recent call last)",
      "\u001b[1;32m<ipython-input-131-ef38ec5caa55>\u001b[0m in \u001b[0;36m<module>\u001b[1;34m()\u001b[0m\n\u001b[0;32m     36\u001b[0m                 \u001b[1;32mfor\u001b[0m \u001b[0mh\u001b[0m \u001b[1;32min\u001b[0m \u001b[1;33m[\u001b[0m \u001b[1;33m[\u001b[0m\u001b[0mint\u001b[0m\u001b[1;33m(\u001b[0m\u001b[0mx\u001b[0m\u001b[1;33m)\u001b[0m\u001b[1;33m,\u001b[0m\u001b[0mint\u001b[0m\u001b[1;33m(\u001b[0m\u001b[0my\u001b[0m\u001b[1;33m)\u001b[0m\u001b[1;33m]\u001b[0m \u001b[1;32mfor\u001b[0m \u001b[0mx\u001b[0m\u001b[1;33m,\u001b[0m\u001b[0my\u001b[0m \u001b[1;32min\u001b[0m \u001b[0mit\u001b[0m\u001b[1;33m.\u001b[0m\u001b[0mcombinations\u001b[0m\u001b[1;33m(\u001b[0m\u001b[1;34m'0123'\u001b[0m\u001b[1;33m,\u001b[0m\u001b[1;36m2\u001b[0m\u001b[1;33m)\u001b[0m\u001b[1;33m]\u001b[0m\u001b[1;33m:\u001b[0m\u001b[1;33m\u001b[0m\u001b[0m\n\u001b[0;32m     37\u001b[0m                     \u001b[0mcontender\u001b[0m \u001b[1;33m=\u001b[0m \u001b[0mholdSwap\u001b[0m\u001b[1;33m(\u001b[0m\u001b[0mpop\u001b[0m\u001b[1;33m,\u001b[0m\u001b[0mh\u001b[0m\u001b[1;33m)\u001b[0m\u001b[1;33m\u001b[0m\u001b[0m\n\u001b[1;32m---> 38\u001b[1;33m                     \u001b[1;32mif\u001b[0m \u001b[0mevaluate\u001b[0m\u001b[1;33m(\u001b[0m\u001b[0mpop\u001b[0m\u001b[1;33m,\u001b[0m\u001b[0mcontender\u001b[0m\u001b[1;33m)\u001b[0m\u001b[1;33m[\u001b[0m\u001b[1;36m1\u001b[0m\u001b[1;33m]\u001b[0m\u001b[1;33m>\u001b[0m\u001b[1;36m0\u001b[0m\u001b[1;33m:\u001b[0m\u001b[1;33m\u001b[0m\u001b[0m\n\u001b[0m\u001b[0;32m     39\u001b[0m                         \u001b[1;31m#print(h,pop,holdSwap(pop,h),evaluate(pop,contender))\u001b[0m\u001b[1;33m\u001b[0m\u001b[1;33m\u001b[0m\u001b[0m\n\u001b[0;32m     40\u001b[0m                         \u001b[0mprint\u001b[0m\u001b[1;33m(\u001b[0m\u001b[1;34m'GainFija Tried {}: SUCCESS!, updated, +0 position , +1 Round,+1Fija,0+SumFP'\u001b[0m\u001b[1;33m.\u001b[0m\u001b[0mformat\u001b[0m\u001b[1;33m(\u001b[0m\u001b[0mcontender\u001b[0m\u001b[1;33m)\u001b[0m\u001b[1;33m)\u001b[0m\u001b[1;33m\u001b[0m\u001b[0m\n",
      "\u001b[1;31mKeyboardInterrupt\u001b[0m: "
     ]
    }
   ],
   "source": [
    "%%capture\n",
    "for sample in range(1000):\n",
    "    if (sample+1)%5==0:\n",
    "        print(sample+1)\n",
    "    cc=0\n",
    "    Winrounds=[]\n",
    "    while cc<sample+1:\n",
    "        pl2 = [rd.randint(0,9),rd.randint(0,9),rd.randint(0,9),rd.randint(0,9)]\n",
    "\n",
    "        pop=[rd.randint(0,9),rd.randint(0,9),rd.randint(0,9),rd.randint(0,9)]\n",
    "\n",
    "        position=0\n",
    "        rounds=1\n",
    "        print(pop,'START!!',testguess(pl2,pop))\n",
    "        while testguess(pl2,pop)[1]!=4:\n",
    "            print(pop,'NEXT!!')\n",
    "\n",
    "            if testguess(pl2,pop)[0]==testguess(pl2,pop)[1]: \n",
    "                #if sumfijapica==fija then need new number, have repeats, or have repeats of new numbers\n",
    "                addNEW=addnewNumber(pop)\n",
    "                if  addNEW is not None and addNEW[0] != pop:\n",
    "                    print(testguess(pl2,pop),'..get new number')# is not None:\n",
    "                    #print(position)\n",
    "                    rounds+=addNEW[2]\n",
    "                    pop,position = addNEW[:2]\n",
    "                    #print('we round:',rounds)\n",
    "                else:\n",
    "                    print(testguess(pl2,pop),'..repeats??')\n",
    "                    print(position)\n",
    "                    repeatf=repeats(pop,position)\n",
    "                    rounds+=repeatf[2]\n",
    "                    pop,position = repeatf[:2]\n",
    "                    #print('we round:',rounds)\n",
    "\n",
    "            else:\n",
    "                print(testguess(pl2,pop),'..can get a fija')\n",
    "                for h in [ [int(x),int(y)] for x,y in it.combinations('0123',2)]:\n",
    "                    contender = holdSwap(pop,h)\n",
    "                    if evaluate(pop,contender)[1]>0:\n",
    "                        #print(h,pop,holdSwap(pop,h),evaluate(pop,contender))\n",
    "                        print('GainFija Tried {}: SUCCESS!, updated, +0 position , +1 Round,+1Fija,0+SumFP'.format(contender))\n",
    "                        pop = contender\n",
    "                        #print(testguess(pl2,pop))\n",
    "                        rounds+=1\n",
    "                        print('we round:',rounds)\n",
    "                        break\n",
    "                    else:\n",
    "                        rounds+=1\n",
    "                        print('GainFija Tried {}: FAILED, try next combo, +0 position , +1 Round,-1/0Fija,0+SumFP'.format(contender))\n",
    "                        print('we round:',rounds)\n",
    "\n",
    "            print(pop,testguess(pl2,pop),'ROUND:',rounds)\n",
    "        Winrounds.append(rounds)\n",
    "        cc+=1"
   ]
  },
  {
   "cell_type": "code",
   "execution_count": 61,
   "metadata": {
    "collapsed": false
   },
   "outputs": [
    {
     "data": {
      "text/plain": [
       "[0, 5, 7, 7]"
      ]
     },
     "execution_count": 61,
     "metadata": {},
     "output_type": "execute_result"
    }
   ],
   "source": [
    "# for h in [ [int(x[0])] for x in it.combinations('0123',1)]:#[ [int(x),int(y)] for x,y in it.combinations('0123',2)]:\n",
    "#     contender = holdSwap(pop,h)\n",
    "#     print(pop,contender)\n",
    "pl2"
   ]
  },
  {
   "cell_type": "code",
   "execution_count": 51,
   "metadata": {
    "collapsed": false
   },
   "outputs": [
    {
     "data": {
      "text/plain": [
       "[3, 4, 7, 8]"
      ]
     },
     "execution_count": 51,
     "metadata": {},
     "output_type": "execute_result"
    }
   ],
   "source": [
    "holdSwap(pop,[0,1])"
   ]
  },
  {
   "cell_type": "code",
   "execution_count": 166,
   "metadata": {
    "collapsed": false
   },
   "outputs": [
    {
     "ename": "SyntaxError",
     "evalue": "invalid syntax (<ipython-input-166-856e0ac620e0>, line 2)",
     "output_type": "error",
     "traceback": [
      "\u001b[0;36m  File \u001b[0;32m\"<ipython-input-166-856e0ac620e0>\"\u001b[0;36m, line \u001b[0;32m2\u001b[0m\n\u001b[0;31m    SUM then hold that many numbers constant\u001b[0m\n\u001b[0m           ^\u001b[0m\n\u001b[0;31mSyntaxError\u001b[0m\u001b[0;31m:\u001b[0m invalid syntax\n"
     ]
    }
   ],
   "source": [
    "##fijas: 1 , picas: 1\n",
    "SUM then hold that many numbers constant\n",
    "REPLACE other random  New(not used yet) or existing? and same number n times or different numbers each substitute\n",
    "#keep 2 replace exisiting same number\n",
    "##fijas: 1 , picas: 0\n",
    "sum < new sum & lose a pica/fija\n",
    "IF PRIOR SUM WAS BETTER GO BACK/modify other way previous guess\n",
    "remember last guess\n",
    "remember what number Held constant and position\n",
    "switch one number with what was held prior because\n",
    "lose fija switch back\n",
    "regain pica\n",
    "save number for final solution, remember what is not in number\n",
    "sum\n",
    "guess new number keep constant except the one you already know"
   ]
  },
  {
   "cell_type": "code",
   "execution_count": null,
   "metadata": {
    "collapsed": true
   },
   "outputs": [],
   "source": []
  },
  {
   "cell_type": "code",
   "execution_count": 26,
   "metadata": {
    "collapsed": false
   },
   "outputs": [],
   "source": [
    "#COMBINATION AND MIXTURES STUDIES\n",
    "\n",
    "# import math\n",
    "# def nCr(n,r):\n",
    "#     f = math.factorial\n",
    "#     return f(n) / f(r) / f(n-r)\n",
    "\n",
    "# print (nCr(4,2))\n",
    "\n",
    "# #list(it.permutations('abcd',2))\n",
    "# #combinations are unique groups (order no matter/as in order not a distinct group)\n",
    "# #permutations are any groups but no replacement\n",
    "\n",
    "# print(len(list(it.permutations('abcd',2)))\n",
    "# ,len(list(it.combinations('abcd',2)))\n",
    "# ,len(list(it.combinations_with_replacement('abcd',2)))\n",
    "# ,len(list(it.product('abcd','abcd'))))"
   ]
  },
  {
   "cell_type": "code",
   "execution_count": null,
   "metadata": {
    "collapsed": true
   },
   "outputs": [],
   "source": []
  }
 ],
 "metadata": {
  "anaconda-cloud": {},
  "kernelspec": {
   "display_name": "Python [Root]",
   "language": "python",
   "name": "Python [Root]"
  },
  "language_info": {
   "codemirror_mode": {
    "name": "ipython",
    "version": 3
   },
   "file_extension": ".py",
   "mimetype": "text/x-python",
   "name": "python",
   "nbconvert_exporter": "python",
   "pygments_lexer": "ipython3",
   "version": "3.5.2"
  }
 },
 "nbformat": 4,
 "nbformat_minor": 0
}
