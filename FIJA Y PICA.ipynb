{
 "cells": [
  {
   "cell_type": "code",
   "execution_count": 1,
   "metadata": {
    "collapsed": true
   },
   "outputs": [],
   "source": [
    "import random as rd\n",
    "import itertools as it\n",
    "import numpy as np\n",
    "import matplotlib.pyplot as plt\n",
    "%matplotlib inline"
   ]
  },
  {
   "cell_type": "code",
   "execution_count": 4,
   "metadata": {
    "collapsed": false
   },
   "outputs": [],
   "source": [
    "pl2 = [rd.randint(0,9),rd.randint(0,9),rd.randint(0,9),rd.randint(0,9)]"
   ]
  },
  {
   "cell_type": "code",
   "execution_count": 6,
   "metadata": {
    "collapsed": false
   },
   "outputs": [
    {
     "name": "stdout",
     "output_type": "stream",
     "text": [
      "5\n",
      "10\n",
      "15\n"
     ]
    },
    {
     "data": {
      "text/plain": [
       "[3457.0,\n",
       " 7619.5,\n",
       " 1804.0,\n",
       " 7046.5,\n",
       " 4683.6000000000004,\n",
       " 4502.0,\n",
       " 3817.2857142857142,\n",
       " 7218.5,\n",
       " 5822.1111111111113,\n",
       " 5837.6000000000004,\n",
       " 4597.636363636364,\n",
       " 2769.5,\n",
       " 6569.8461538461543,\n",
       " 6135.0714285714284,\n",
       " 4952.3999999999996]"
      ]
     },
     "execution_count": 6,
     "metadata": {},
     "output_type": "execute_result"
    }
   ],
   "source": [
    "all_possible = list([int(w),int(x),int(y),int(z)] for w,x,y,z in it.product('0123456789','0123456789','0123456789','0123456789'))\n",
    "#shuffle to make random guesses where you try every possible combination\n",
    "dd=all_possible.copy()\n",
    "rd.shuffle(dd)\n",
    "#dd\n",
    "gg = []\n",
    "for sample in range(15):\n",
    "    if (sample+1)%5==0:\n",
    "        print(sample+1)\n",
    "    cc=0\n",
    "    rounds=[]\n",
    "    while cc<sample+1:\n",
    "        rd.shuffle(dd)\n",
    "        for index,gus in enumerate(dd):\n",
    "            #gus = Y#[rd.randint(0,9),rd.randint(0,9),rd.randint(0,9),rd.randint(0,9)]\n",
    "            #print(gus)\n",
    "            fijas = 0\n",
    "            picas = 0\n",
    "            for z in set(gus):\n",
    "                #print(z)\n",
    "                fij = len(set([i for i,x in enumerate(pl2) if x == z]\\\n",
    "                             ).intersection([i for i,x in enumerate(gus) if x == z]))\n",
    "                if fij>0:\n",
    "                #print(fij)\n",
    "                    fijas += fij\n",
    "                else:\n",
    "                    if z in pl2:\n",
    "                        picas += 1\n",
    "            #print('fijas:',fijas,',','picas:',picas)\n",
    "            if fijas ==4:\n",
    "                rounds.append(index)\n",
    "                #print(index,gus)\n",
    "                #print('fijas:',fijas,',','picas:',picas)\n",
    "                break\n",
    "        cc +=1\n",
    "    gg.append(np.mean(rounds))\n",
    "gg"
   ]
  },
  {
   "cell_type": "code",
   "execution_count": 7,
   "metadata": {
    "collapsed": false
   },
   "outputs": [
    {
     "data": {
      "text/plain": [
       "(array([ 1.,  1.,  1.,  1.,  3.,  1.,  2.,  1.,  1.,  3.]),\n",
       " array([ 1804.  ,  2385.55,  2967.1 ,  3548.65,  4130.2 ,  4711.75,\n",
       "         5293.3 ,  5874.85,  6456.4 ,  7037.95,  7619.5 ]),\n",
       " <a list of 10 Patch objects>)"
      ]
     },
     "execution_count": 7,
     "metadata": {},
     "output_type": "execute_result"
    },
    {
     "data": {
      "image/png": "[encoded data removed]",
      "text/plain": [
       "<matplotlib.figure.Figure at 0x206c59cd1d0>"
      ]
     },
     "metadata": {},
     "output_type": "display_data"
    }
   ],
   "source": [
    "#plt.plot(gg)\n",
    "plt.hist(gg)"
   ]
  },
  {
   "cell_type": "code",
   "execution_count": 8,
   "metadata": {
    "collapsed": false
   },
   "outputs": [
    {
     "data": {
      "text/plain": [
       "5122.170051430051"
      ]
     },
     "execution_count": 8,
     "metadata": {},
     "output_type": "execute_result"
    }
   ],
   "source": [
    "np.mean(gg)"
   ]
  },
  {
   "cell_type": "code",
   "execution_count": 9,
   "metadata": {
    "collapsed": false
   },
   "outputs": [],
   "source": [
    "def testguess(answer,guess):\n",
    "    '''returns [SumFijaPica, Fija, Pica]'''\n",
    "    fijas = 0\n",
    "    picas = 0\n",
    "    for z in set(guess):\n",
    "        fij = len(set([i for i,x in enumerate(answer) if x == z]\\\n",
    "                     ).intersection([i for i,x in enumerate(guess) if x == z]))\n",
    "        if fij>0:\n",
    "            fijas += fij\n",
    "            if fijas ==4:\n",
    "                print(guess,'WIN')\n",
    "                break  \n",
    "        else:\n",
    "            if z in answer:\n",
    "                picas += 1\n",
    "    return [fijas+picas,fijas,picas]"
   ]
  },
  {
   "cell_type": "code",
   "execution_count": 10,
   "metadata": {
    "collapsed": false
   },
   "outputs": [],
   "source": [
    "def evaluate(current,new):\n",
    "    ''' Used to evaluate change in guesses\n",
    "    [SUM_fijaPica, Fija, Pica]'''\n",
    "    return [b-a for a, b in zip(testguess(pl2,current), testguess(pl2,new))]"
   ]
  },
  {
   "cell_type": "code",
   "execution_count": 12,
   "metadata": {
    "collapsed": false
   },
   "outputs": [],
   "source": [
    "def fijas(answer,guess):\n",
    "    \"\"\"solves for 1 fija if have a pica\"\"\"\n",
    "    for x in range(26):\n",
    "        t =testguess(answer,guess)\n",
    "        #print([x,guess,testguess(answer,guess)])\n",
    "        if t[0]==0:\n",
    "            print('Nothing!')\n",
    "            break\n",
    "        if t[1]>0:\n",
    "            print('rounds ->',x+1,',fija:',\\\n",
    "                  testguess(answer,guess)[1],'pica:',testguess(answer,guess)[2],'sum_fp:',t[0])\n",
    "            return [guess,testguess(answer,guess),'rounds->',x+1]\n",
    "            break\n",
    "        else:\n",
    "            guess.append(guess.pop(0))"
   ]
  },
  {
   "cell_type": "code",
   "execution_count": 126,
   "metadata": {
    "collapsed": true
   },
   "outputs": [],
   "source": [
    "pl2 = [rd.randint(0,9),rd.randint(0,9),rd.randint(0,9),rd.randint(0,9)]"
   ]
  },
  {
   "cell_type": "code",
   "execution_count": 127,
   "metadata": {
    "collapsed": false
   },
   "outputs": [
    {
     "data": {
      "text/plain": [
       "[7, 5, 4, 6]"
      ]
     },
     "execution_count": 127,
     "metadata": {},
     "output_type": "execute_result"
    }
   ],
   "source": [
    "pl2 #[9, 6, 6, 6]"
   ]
  },
  {
   "cell_type": "code",
   "execution_count": 128,
   "metadata": {
    "collapsed": true
   },
   "outputs": [],
   "source": [
    "def holdSwap(lis, hold):\n",
    "    m=[y for y in range(4) if y not in hold]\n",
    "    #print(m)\n",
    "    x=[0,0,0,0]\n",
    "    x[hold[0]]=lis[hold[0]]\n",
    "    x[hold[1]]=lis[hold[1]]\n",
    "    x[m[0]]=lis[m[1]]\n",
    "    x[m[1]]=lis[m[0]]\n",
    "    return x"
   ]
  },
  {
   "cell_type": "code",
   "execution_count": 244,
   "metadata": {
    "collapsed": true
   },
   "outputs": [],
   "source": [
    "def addnewNumber(lis,position=0):\n",
    "    \"\"\"Return new sequence where a Fija or pica is gained from adding new number\"\"\"\n",
    "    m=sorted([y for y in range(10) if y not in lis],reverse=True)\n",
    "    print(m)\n",
    "    x=lis.copy()\n",
    "    #print(x,m,'pos',position)\n",
    "    testround=0\n",
    "    #enumerate doesnt work for rounds because I wont check a number that is already in same spot.\n",
    "    for l in m:\n",
    "        if x[position]!=l:\n",
    "            x[position]=l\n",
    "        #print(evaluate(lis,x),lis,x,position)\n",
    "            if evaluate(lis,x)[1]<0 and evaluate(lis,x)[0]<0: #if fija lost and fijapica lost..\n",
    "                position+=1\n",
    "                x=lis.copy()\n",
    "                testround+=1\n",
    "                #print('return','pos',position)\n",
    "                print('AddnewNumber Tried {}: FAILED, rolledback, +1 position , +1 Round,-1Fija,-1SumFP'.format(l))\n",
    "            elif evaluate(lis,x)[1]<0 and evaluate(lis,x)[0]>=0:#if fija lost but gain pica..that number still good...\n",
    "                position+=1\n",
    "                x=lis.copy()\n",
    "                m.append(l)\n",
    "                testround+=1\n",
    "                #print('return but..','pos',position)\n",
    "                print('AddnewNumber Tried {}: FAILED..sorta, rolledback,new#putback, +1 position , +1 Round,-1Fija,0+SumFP'.format(l))\n",
    "            elif evaluate(lis,x)[0]>0:\n",
    "                testround+=1\n",
    "                #print('round :',testround)\n",
    "                print('AddnewNumber Tried {}: SUCCESS!, updated, +0 position , +1 Round,+1Fija'.format(l))\n",
    "                return [x,position,testround]"
   ]
  },
  {
   "cell_type": "code",
   "execution_count": 232,
   "metadata": {
    "collapsed": false
   },
   "outputs": [],
   "source": [
    "def repeats(lis,pos):\n",
    "    posi=pos\n",
    "    b=lis.copy()\n",
    "    laps=0\n",
    "    for x in pop:\n",
    "        b[posi]=x\n",
    "        #print(evaluate(lis,b),b,b)\n",
    "        if evaluate(lis,b)[1]<0 and evaluate(lis,b)[0]<0:\n",
    "            posi+=1\n",
    "            b=lis.copy()\n",
    "            laps+=1\n",
    "            print('Repeat Tried {}: FAILED, rolledback, +1 position , +1 Round,-1Fija,-1SumFP'.format(x))\n",
    "            return [b,posi,laps]\n",
    "        elif evaluate(lis,b)[1]>0:\n",
    "            #print(evaluate(pop,b)[1]>0)\n",
    "            #lis=b cant reassign variable passed through a variable\n",
    "            #print(b,posi,posi)\n",
    "            laps+=1\n",
    "            print('Repeat Tried {}: SUCCESS!, updated, +0 position , +1 Round,+1Fija'.format(x))\n",
    "            return [b,posi,laps]\n",
    "            "
   ]
  },
  {
   "cell_type": "code",
   "execution_count": 218,
   "metadata": {
    "collapsed": false
   },
   "outputs": [
    {
     "data": {
      "text/plain": [
       "[1, 4, 7, 2]"
      ]
     },
     "execution_count": 218,
     "metadata": {},
     "output_type": "execute_result"
    }
   ],
   "source": [
    "pl2"
   ]
  },
  {
   "cell_type": "code",
   "execution_count": null,
   "metadata": {
    "collapsed": false
   },
   "outputs": [],
   "source": []
  },
  {
   "cell_type": "code",
   "execution_count": 215,
   "metadata": {
    "collapsed": false
   },
   "outputs": [
    {
     "data": {
      "text/plain": [
       "[3, 3, 7, 0]"
      ]
     },
     "execution_count": 215,
     "metadata": {},
     "output_type": "execute_result"
    }
   ],
   "source": [
    "pop"
   ]
  },
  {
   "cell_type": "code",
   "execution_count": 216,
   "metadata": {
    "collapsed": false
   },
   "outputs": [],
   "source": [
    "pl2 = [rd.randint(0,9),rd.randint(0,9),rd.randint(0,9),rd.randint(0,9)]\n",
    "#pl2=[7,7,7,7]\n",
    "#pop = [0,1,2,3]\n",
    "pop=[rd.randint(0,9),rd.randint(0,9),rd.randint(0,9),rd.randint(0,9)]\n",
    "#fijas(pl2,pop)\n",
    "position=0\n",
    "rounds=1"
   ]
  },
  {
   "cell_type": "code",
   "execution_count": 201,
   "metadata": {
    "collapsed": false
   },
   "outputs": [
    {
     "name": "stdout",
     "output_type": "stream",
     "text": [
      "[2, 4, 2, 9]\n",
      "AddnewNumber Tried: FAILED, rolledback, +1 position , +1 Round,-1Fija,-1SumFP \n",
      "AddnewNumber Tried: FAILED, rolledback, +1 position , +1 Round,-1Fija,-1SumFP \n",
      "AddnewNumber Tried: FAILED, rolledback, +1 position , +1 Round,-1Fija,-1SumFP \n",
      "repeats??\n",
      "3\n",
      "[2, 4, 2, 4] WIN\n",
      "[2, 4, 2, 4] WIN\n",
      "Repeat Tried: SUCCESS!, updated, +0 position , +1 Round,+1Fija\n",
      "[2, 4, 2, 4] WIN\n",
      "[2, 4, 2, 4] WIN\n",
      "Repeat Tried: SUCCESS!, updated, +0 position , +1 Round,+1Fija\n",
      "we round: 7\n",
      "[2, 4, 2, 4] WIN\n",
      "[2, 4, 2, 4] [4, 4, 0] ROUNDS: 7\n"
     ]
    }
   ],
   "source": [
    "#pl2=[9,6,6,6] \n",
    "#[0, 6, 8, 4]\n",
    "#pop=[0,1,2,3]#[4,5,6,7]#[0,1,2,3]\n",
    "#fijas(pl2,pop)\n",
    "#pop=[92]\n",
    "print(pop)\n",
    "\n",
    "if testguess(pl2,pop)[0]==testguess(pl2,pop)[1]: \n",
    "    #if sumfijapica==fija then need new number, have repeats, or have repeats of new numbers\n",
    "    if  addnewNumber(pop) is not None and addnewNumber(pop)[0] != pop:\n",
    "        print('get new number')# is not None:\n",
    "        print(position)\n",
    "        rounds+=addnewNumber(pop,position)[2]\n",
    "        pop,position = addnewNumber(pop,position)[:2]\n",
    "        print('we round:',rounds)\n",
    "    else:\n",
    "        print('repeats??')\n",
    "        print(position)\n",
    "        rounds+=repeats(pop,position)[2]\n",
    "        pop,position = repeats(pop,position)[:2]\n",
    "        print('we round:',rounds)\n",
    "\n",
    "else:\n",
    "    print('gain another fija')\n",
    "    for h in [ [int(x),int(y)] for x,y in it.combinations('0123',2)]:\n",
    "        contender = holdSwap(pop,h)\n",
    "        if evaluate(pop,contender)[1]>0:\n",
    "            print(h,pop,holdSwap(pop,h),evaluate(pop,contender))\n",
    "            pop = contender\n",
    "            print(testguess(pl2,pop))\n",
    "            rounds+=1\n",
    "            print('we round:',rounds)\n",
    "            break\n",
    "print(pop,testguess(pl2,pop),'ROUNDS:',rounds)"
   ]
  },
  {
   "cell_type": "code",
   "execution_count": 245,
   "metadata": {
    "collapsed": false,
    "scrolled": false
   },
   "outputs": [
    {
     "name": "stdout",
     "output_type": "stream",
     "text": [
      "[0, 1, 2, 3] START!! [0, 0, 0]\n",
      "[0, 1, 2, 3] NEXT!!\n",
      "[9, 8, 7, 6, 5, 4]\n",
      "AddnewNumber Tried 9: SUCCESS!, updated, +0 position , +1 Round,+1Fija\n",
      "[0, 0, 0] ..get new number\n",
      "[9, 1, 2, 3] [1, 1, 0] ROUND: 2\n",
      "[9, 1, 2, 3] NEXT!!\n",
      "[8, 7, 6, 5, 4, 0]\n",
      "AddnewNumber Tried 8: FAILED, rolledback, +1 position , +1 Round,-1Fija,-1SumFP\n",
      "AddnewNumber Tried 6: SUCCESS!, updated, +0 position , +1 Round,+1Fija\n",
      "[1, 1, 0] ..get new number\n",
      "[9, 6, 2, 3] [2, 2, 0] ROUND: 4\n",
      "[9, 6, 2, 3] NEXT!!\n",
      "[8, 7, 5, 4, 1, 0]\n",
      "AddnewNumber Tried 8: FAILED, rolledback, +1 position , +1 Round,-1Fija,-1SumFP\n",
      "AddnewNumber Tried 7: FAILED, rolledback, +1 position , +1 Round,-1Fija,-1SumFP\n",
      "AddnewNumber Tried 4: SUCCESS!, updated, +0 position , +1 Round,+1Fija\n",
      "[2, 2, 0] ..get new number\n",
      "[9, 6, 4, 3] [3, 3, 0] ROUND: 7\n",
      "[9, 6, 4, 3] NEXT!!\n",
      "[8, 7, 5, 2, 1, 0]\n",
      "AddnewNumber Tried 8: FAILED, rolledback, +1 position , +1 Round,-1Fija,-1SumFP\n",
      "AddnewNumber Tried 7: FAILED, rolledback, +1 position , +1 Round,-1Fija,-1SumFP\n",
      "AddnewNumber Tried 5: FAILED, rolledback, +1 position , +1 Round,-1Fija,-1SumFP\n",
      "[3, 3, 0] ..repeats??\n",
      "2\n",
      "Repeat Tried 9: FAILED, rolledback, +1 position , +1 Round,-1Fija,-1SumFP\n",
      "[9, 6, 4, 3] [3, 3, 0] ROUND: 8\n",
      "[9, 6, 4, 3] NEXT!!\n",
      "[8, 7, 5, 2, 1, 0]\n",
      "AddnewNumber Tried 8: FAILED, rolledback, +1 position , +1 Round,-1Fija,-1SumFP\n",
      "AddnewNumber Tried 7: FAILED, rolledback, +1 position , +1 Round,-1Fija,-1SumFP\n",
      "AddnewNumber Tried 5: FAILED, rolledback, +1 position , +1 Round,-1Fija,-1SumFP\n",
      "[3, 3, 0] ..repeats??\n",
      "3\n",
      "[9, 6, 4, 9] WIN\n",
      "[9, 6, 4, 9] WIN\n",
      "Repeat Tried 9: SUCCESS!, updated, +0 position , +1 Round,+1Fija\n",
      "[9, 6, 4, 9] WIN\n",
      "[9, 6, 4, 9] [4, 4, 0] ROUND: 9\n",
      "[9, 6, 4, 9] WIN\n"
     ]
    }
   ],
   "source": [
    "pl2 = [rd.randint(0,9),rd.randint(0,9),rd.randint(0,9),rd.randint(0,9)]\n",
    "\n",
    "pop=[0,1,2,3]#[rd.randint(0,9),rd.randint(0,9),rd.randint(0,9),rd.randint(0,9)]\n",
    "\n",
    "position=0\n",
    "rounds=1\n",
    "print(pop,'START!!',testguess(pl2,pop))\n",
    "while testguess(pl2,pop)[1]!=4:\n",
    "    print(pop,'NEXT!!')\n",
    "\n",
    "    if testguess(pl2,pop)[0]==testguess(pl2,pop)[1]: \n",
    "        #if sumfijapica==fija then need new number, have repeats, or have repeats of new numbers\n",
    "        addNEW=addnewNumber(pop)\n",
    "        if  addNEW is not None and addNEW[0] != pop:\n",
    "            print(testguess(pl2,pop),'..get new number')# is not None:\n",
    "            #print(position)\n",
    "            rounds+=addNEW[2]\n",
    "            pop,position = addNEW[:2]\n",
    "            #print('we round:',rounds)\n",
    "        else:\n",
    "            print(testguess(pl2,pop),'..repeats??')\n",
    "            print(position)\n",
    "            repeatf=repeats(pop,position)\n",
    "            rounds+=repeatf[2]\n",
    "            pop,position = repeatf[:2]\n",
    "            #print('we round:',rounds)\n",
    "\n",
    "    else:\n",
    "        print(testguess(pl2,pop),'..get another fija')\n",
    "        for h in [ [int(x),int(y)] for x,y in it.combinations('0123',2)]:\n",
    "            contender = holdSwap(pop,h)\n",
    "            if evaluate(pop,contender)[1]>0:\n",
    "                #print(h,pop,holdSwap(pop,h),evaluate(pop,contender))\n",
    "                pop = contender\n",
    "                #print(testguess(pl2,pop))\n",
    "                rounds+=1\n",
    "                #print('we round:',rounds)\n",
    "                break\n",
    "    print(pop,testguess(pl2,pop),'ROUND:',rounds)"
   ]
  },
  {
   "cell_type": "code",
   "execution_count": 166,
   "metadata": {
    "collapsed": false
   },
   "outputs": [
    {
     "ename": "SyntaxError",
     "evalue": "invalid syntax (<ipython-input-166-856e0ac620e0>, line 2)",
     "output_type": "error",
     "traceback": [
      "\u001b[0;36m  File \u001b[0;32m\"<ipython-input-166-856e0ac620e0>\"\u001b[0;36m, line \u001b[0;32m2\u001b[0m\n\u001b[0;31m    SUM then hold that many numbers constant\u001b[0m\n\u001b[0m           ^\u001b[0m\n\u001b[0;31mSyntaxError\u001b[0m\u001b[0;31m:\u001b[0m invalid syntax\n"
     ]
    }
   ],
   "source": [
    "##fijas: 1 , picas: 1\n",
    "SUM then hold that many numbers constant\n",
    "REPLACE other random  New(not used yet) or existing? and same number n times or different numbers each substitute\n",
    "#keep 2 replace exisiting same number\n",
    "##fijas: 1 , picas: 0\n",
    "sum < new sum & lose a pica/fija\n",
    "IF PRIOR SUM WAS BETTER GO BACK/modify other way previous guess\n",
    "remember last guess\n",
    "remember what number Held constant and position\n",
    "switch one number with what was held prior because\n",
    "lose fija switch back\n",
    "regain pica\n",
    "save number for final solution, remember what is not in number\n",
    "sum\n",
    "guess new number keep constant except the one you already know"
   ]
  },
  {
   "cell_type": "code",
   "execution_count": null,
   "metadata": {
    "collapsed": true
   },
   "outputs": [],
   "source": []
  },
  {
   "cell_type": "code",
   "execution_count": 26,
   "metadata": {
    "collapsed": false
   },
   "outputs": [],
   "source": [
    "#COMBINATION AND MIXTURES STUDIES\n",
    "\n",
    "# import math\n",
    "# def nCr(n,r):\n",
    "#     f = math.factorial\n",
    "#     return f(n) / f(r) / f(n-r)\n",
    "\n",
    "# print (nCr(4,2))\n",
    "\n",
    "# #list(it.permutations('abcd',2))\n",
    "# #combinations are unique groups (order no matter/as in order not a distinct group)\n",
    "# #permutations are any groups but no replacement\n",
    "\n",
    "# print(len(list(it.permutations('abcd',2)))\n",
    "# ,len(list(it.combinations('abcd',2)))\n",
    "# ,len(list(it.combinations_with_replacement('abcd',2)))\n",
    "# ,len(list(it.product('abcd','abcd'))))"
   ]
  },
  {
   "cell_type": "code",
   "execution_count": null,
   "metadata": {
    "collapsed": true
   },
   "outputs": [],
   "source": []
  }
 ],
 "metadata": {
  "anaconda-cloud": {},
  "kernelspec": {
   "display_name": "Python 3",
   "language": "python",
   "name": "python3"
  },
  "language_info": {
   "codemirror_mode": {
    "name": "ipython",
    "version": 3
   },
   "file_extension": ".py",
   "mimetype": "text/x-python",
   "name": "python",
   "nbconvert_exporter": "python",
   "pygments_lexer": "ipython3",
   "version": "3.6.0"
  }
 },
 "nbformat": 4,
 "nbformat_minor": 0
}
