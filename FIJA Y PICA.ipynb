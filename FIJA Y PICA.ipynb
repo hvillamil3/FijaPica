{
 "cells": [
  {
   "cell_type": "code",
   "execution_count": 2502,
   "metadata": {
    "collapsed": true
   },
   "outputs": [],
   "source": [
    "import random as rd\n",
    "import itertools as it\n",
    "import numpy as np\n",
    "import matplotlib.pyplot as plt\n",
    "%matplotlib inline"
   ]
  },
  {
   "cell_type": "code",
   "execution_count": 2503,
   "metadata": {
    "collapsed": false
   },
   "outputs": [
    {
     "name": "stdout",
     "output_type": "stream",
     "text": [
      "6.0\n"
     ]
    }
   ],
   "source": [
    "import math\n",
    "def nCr(n,r):\n",
    "    f = math.factorial\n",
    "    return f(n) / f(r) / f(n-r)\n",
    "\n",
    "print (nCr(4,2))"
   ]
  },
  {
   "cell_type": "code",
   "execution_count": 2504,
   "metadata": {
    "collapsed": false
   },
   "outputs": [
    {
     "name": "stdout",
     "output_type": "stream",
     "text": [
      "12 6 10 16\n"
     ]
    }
   ],
   "source": [
    "#list(it.permutations('abcd',2))\n",
    "#combinations are unique groups (order no matter/as in order not a distinct group)\n",
    "#permutations are any groups but no replacement\n",
    "\n",
    "print(len(list(it.permutations('abcd',2)))\n",
    ",len(list(it.combinations('abcd',2)))\n",
    ",len(list(it.combinations_with_replacement('abcd',2)))\n",
    ",len(list(it.product('abcd','abcd'))))\n",
    "\n",
    "all_possible = list([int(w),int(x),int(y),int(z)] for w,x,y,z in it.product('0123456789','0123456789','0123456789','0123456789'))"
   ]
  },
  {
   "cell_type": "code",
   "execution_count": 2654,
   "metadata": {
    "collapsed": false
   },
   "outputs": [],
   "source": [
    "pl2 = [rd.randint(0,9),rd.randint(0,9),rd.randint(0,9),rd.randint(0,9)]"
   ]
  },
  {
   "cell_type": "code",
   "execution_count": 2506,
   "metadata": {
    "collapsed": false
   },
   "outputs": [],
   "source": [
    "#pl2"
   ]
  },
  {
   "cell_type": "code",
   "execution_count": 2507,
   "metadata": {
    "collapsed": false
   },
   "outputs": [
    {
     "name": "stdout",
     "output_type": "stream",
     "text": [
      "5\n",
      "10\n"
     ]
    },
    {
     "ename": "KeyboardInterrupt",
     "evalue": "",
     "output_type": "error",
     "traceback": [
      "\u001b[1;31m---------------------------------------------------------------------------\u001b[0m",
      "\u001b[1;31mKeyboardInterrupt\u001b[0m                         Traceback (most recent call last)",
      "\u001b[1;32m<ipython-input-2507-f8d17f4f80d8>\u001b[0m in \u001b[0;36m<module>\u001b[1;34m()\u001b[0m\n\u001b[0;32m     18\u001b[0m             \u001b[1;32mfor\u001b[0m \u001b[0mz\u001b[0m \u001b[1;32min\u001b[0m \u001b[0mset\u001b[0m\u001b[1;33m(\u001b[0m\u001b[0mgus\u001b[0m\u001b[1;33m)\u001b[0m\u001b[1;33m:\u001b[0m\u001b[1;33m\u001b[0m\u001b[0m\n\u001b[0;32m     19\u001b[0m                 \u001b[1;31m#print(z)\u001b[0m\u001b[1;33m\u001b[0m\u001b[1;33m\u001b[0m\u001b[0m\n\u001b[1;32m---> 20\u001b[1;33m                 \u001b[0mfij\u001b[0m \u001b[1;33m=\u001b[0m \u001b[0mlen\u001b[0m\u001b[1;33m(\u001b[0m\u001b[0mset\u001b[0m\u001b[1;33m(\u001b[0m\u001b[1;33m[\u001b[0m\u001b[0mi\u001b[0m \u001b[1;32mfor\u001b[0m \u001b[0mi\u001b[0m\u001b[1;33m,\u001b[0m\u001b[0mx\u001b[0m \u001b[1;32min\u001b[0m \u001b[0menumerate\u001b[0m\u001b[1;33m(\u001b[0m\u001b[0mpl2\u001b[0m\u001b[1;33m)\u001b[0m \u001b[1;32mif\u001b[0m \u001b[0mx\u001b[0m \u001b[1;33m==\u001b[0m \u001b[0mz\u001b[0m\u001b[1;33m]\u001b[0m                             \u001b[1;33m)\u001b[0m\u001b[1;33m.\u001b[0m\u001b[0mintersection\u001b[0m\u001b[1;33m(\u001b[0m\u001b[1;33m[\u001b[0m\u001b[0mi\u001b[0m \u001b[1;32mfor\u001b[0m \u001b[0mi\u001b[0m\u001b[1;33m,\u001b[0m\u001b[0mx\u001b[0m \u001b[1;32min\u001b[0m \u001b[0menumerate\u001b[0m\u001b[1;33m(\u001b[0m\u001b[0mgus\u001b[0m\u001b[1;33m)\u001b[0m \u001b[1;32mif\u001b[0m \u001b[0mx\u001b[0m \u001b[1;33m==\u001b[0m \u001b[0mz\u001b[0m\u001b[1;33m]\u001b[0m\u001b[1;33m)\u001b[0m\u001b[1;33m)\u001b[0m\u001b[1;33m\u001b[0m\u001b[0m\n\u001b[0m\u001b[0;32m     21\u001b[0m                 \u001b[1;32mif\u001b[0m \u001b[0mfij\u001b[0m\u001b[1;33m>\u001b[0m\u001b[1;36m0\u001b[0m\u001b[1;33m:\u001b[0m\u001b[1;33m\u001b[0m\u001b[0m\n\u001b[0;32m     22\u001b[0m                 \u001b[1;31m#print(fij)\u001b[0m\u001b[1;33m\u001b[0m\u001b[1;33m\u001b[0m\u001b[0m\n",
      "\u001b[1;32m<ipython-input-2507-f8d17f4f80d8>\u001b[0m in \u001b[0;36m<listcomp>\u001b[1;34m(.0)\u001b[0m\n\u001b[0;32m     18\u001b[0m             \u001b[1;32mfor\u001b[0m \u001b[0mz\u001b[0m \u001b[1;32min\u001b[0m \u001b[0mset\u001b[0m\u001b[1;33m(\u001b[0m\u001b[0mgus\u001b[0m\u001b[1;33m)\u001b[0m\u001b[1;33m:\u001b[0m\u001b[1;33m\u001b[0m\u001b[0m\n\u001b[0;32m     19\u001b[0m                 \u001b[1;31m#print(z)\u001b[0m\u001b[1;33m\u001b[0m\u001b[1;33m\u001b[0m\u001b[0m\n\u001b[1;32m---> 20\u001b[1;33m                 \u001b[0mfij\u001b[0m \u001b[1;33m=\u001b[0m \u001b[0mlen\u001b[0m\u001b[1;33m(\u001b[0m\u001b[0mset\u001b[0m\u001b[1;33m(\u001b[0m\u001b[1;33m[\u001b[0m\u001b[0mi\u001b[0m \u001b[1;32mfor\u001b[0m \u001b[0mi\u001b[0m\u001b[1;33m,\u001b[0m\u001b[0mx\u001b[0m \u001b[1;32min\u001b[0m \u001b[0menumerate\u001b[0m\u001b[1;33m(\u001b[0m\u001b[0mpl2\u001b[0m\u001b[1;33m)\u001b[0m \u001b[1;32mif\u001b[0m \u001b[0mx\u001b[0m \u001b[1;33m==\u001b[0m \u001b[0mz\u001b[0m\u001b[1;33m]\u001b[0m                             \u001b[1;33m)\u001b[0m\u001b[1;33m.\u001b[0m\u001b[0mintersection\u001b[0m\u001b[1;33m(\u001b[0m\u001b[1;33m[\u001b[0m\u001b[0mi\u001b[0m \u001b[1;32mfor\u001b[0m \u001b[0mi\u001b[0m\u001b[1;33m,\u001b[0m\u001b[0mx\u001b[0m \u001b[1;32min\u001b[0m \u001b[0menumerate\u001b[0m\u001b[1;33m(\u001b[0m\u001b[0mgus\u001b[0m\u001b[1;33m)\u001b[0m \u001b[1;32mif\u001b[0m \u001b[0mx\u001b[0m \u001b[1;33m==\u001b[0m \u001b[0mz\u001b[0m\u001b[1;33m]\u001b[0m\u001b[1;33m)\u001b[0m\u001b[1;33m)\u001b[0m\u001b[1;33m\u001b[0m\u001b[0m\n\u001b[0m\u001b[0;32m     21\u001b[0m                 \u001b[1;32mif\u001b[0m \u001b[0mfij\u001b[0m\u001b[1;33m>\u001b[0m\u001b[1;36m0\u001b[0m\u001b[1;33m:\u001b[0m\u001b[1;33m\u001b[0m\u001b[0m\n\u001b[0;32m     22\u001b[0m                 \u001b[1;31m#print(fij)\u001b[0m\u001b[1;33m\u001b[0m\u001b[1;33m\u001b[0m\u001b[0m\n",
      "\u001b[1;31mKeyboardInterrupt\u001b[0m: "
     ]
    }
   ],
   "source": [
    "#shuffle to make random guesses where you try every possible combination\n",
    "dd=all_possible.copy()\n",
    "rd.shuffle(dd)\n",
    "#dd\n",
    "gg = []\n",
    "for sample in range(15):\n",
    "    if (sample+1)%5==0:\n",
    "        print(sample+1)\n",
    "    cc=0\n",
    "    rounds=[]\n",
    "    while cc<sample+1:\n",
    "        rd.shuffle(dd)\n",
    "        for index,gus in enumerate(dd):\n",
    "            #gus = Y#[rd.randint(0,9),rd.randint(0,9),rd.randint(0,9),rd.randint(0,9)]\n",
    "            #print(gus)\n",
    "            fijas = 0\n",
    "            picas = 0\n",
    "            for z in set(gus):\n",
    "                #print(z)\n",
    "                fij = len(set([i for i,x in enumerate(pl2) if x == z]\\\n",
    "                             ).intersection([i for i,x in enumerate(gus) if x == z]))\n",
    "                if fij>0:\n",
    "                #print(fij)\n",
    "                    fijas += fij\n",
    "                else:\n",
    "                    if z in pl2:\n",
    "                        picas += 1\n",
    "            #print('fijas:',fijas,',','picas:',picas)\n",
    "            if fijas ==4:\n",
    "                rounds.append(index)\n",
    "                #print(index,gus)\n",
    "                #print('fijas:',fijas,',','picas:',picas)\n",
    "                break\n",
    "        cc +=1\n",
    "    gg.append(np.mean(rounds))\n",
    "gg"
   ]
  },
  {
   "cell_type": "code",
   "execution_count": 2508,
   "metadata": {
    "collapsed": false
   },
   "outputs": [
    {
     "data": {
      "text/plain": [
       "(array([ 1.,  0.,  1.,  5.,  2.,  2.,  0.,  0.,  0.,  1.]),\n",
       " array([ 1828.5 ,  2573.25,  3318.  ,  4062.75,  4807.5 ,  5552.25,\n",
       "         6297.  ,  7041.75,  7786.5 ,  8531.25,  9276.  ]),\n",
       " <a list of 10 Patch objects>)"
      ]
     },
     "execution_count": 2508,
     "metadata": {},
     "output_type": "execute_result"
    },
    {
     "data": {
      "image/png": "[encoded data removed]",
      "text/plain": [
       "<matplotlib.figure.Figure at 0x26dffd6d898>"
      ]
     },
     "metadata": {},
     "output_type": "display_data"
    }
   ],
   "source": [
    "#plt.plot(gg)\n",
    "plt.hist(gg)"
   ]
  },
  {
   "cell_type": "code",
   "execution_count": 2509,
   "metadata": {
    "collapsed": false
   },
   "outputs": [
    {
     "data": {
      "text/plain": [
       "4999.8593494468496"
      ]
     },
     "execution_count": 2509,
     "metadata": {},
     "output_type": "execute_result"
    }
   ],
   "source": [
    "np.mean(gg)"
   ]
  },
  {
   "cell_type": "code",
   "execution_count": 2510,
   "metadata": {
    "collapsed": false
   },
   "outputs": [],
   "source": [
    "def testguess(answer,guess):\n",
    "    '''returns [SumFijaPica, Fija, Pica]'''\n",
    "    fijas = 0\n",
    "    picas = 0\n",
    "    for z in set(guess):\n",
    "        fij = len(set([i for i,x in enumerate(answer) if x == z]\\\n",
    "                     ).intersection([i for i,x in enumerate(guess) if x == z]))\n",
    "        if fij>0:\n",
    "            fijas += fij\n",
    "            if fijas ==4:\n",
    "                print(guess,'WIN')\n",
    "                break  \n",
    "        else:\n",
    "            if z in answer:\n",
    "                picas += 1\n",
    "    return [fijas+picas,fijas,picas]"
   ]
  },
  {
   "cell_type": "code",
   "execution_count": 2562,
   "metadata": {
    "collapsed": false
   },
   "outputs": [],
   "source": [
    "def evaluate(current,new):\n",
    "    ''' Used to evaluate change in guesses\n",
    "    [SUM_fijaPica, Fija, Pica]'''\n",
    "    return [b-a for a, b in zip(testguess(pl2,current), testguess(pl2,new))]"
   ]
  },
  {
   "cell_type": "code",
   "execution_count": 2574,
   "metadata": {
    "collapsed": false
   },
   "outputs": [],
   "source": [
    "def decide(current,new):\n",
    "    #print(evaluate(current,new)[1],'',testguess(pl2,current)[1])\n",
    "    if evaluate(current,new)[1]>testguess(pl2,current)[1]:\n",
    "        #print(new,evaluate(current,new),testguess(pl2,new))\n",
    "        return new\n",
    "    else:\n",
    "        return current"
   ]
  },
  {
   "cell_type": "code",
   "execution_count": 2530,
   "metadata": {
    "collapsed": false
   },
   "outputs": [],
   "source": [
    "def fijas(answer,guess):\n",
    "    \"\"\"solves for 1 fija if have a pica\"\"\"\n",
    "    for x in range(26):\n",
    "        t =testguess(answer,guess)\n",
    "        #print([x,guess,testguess(answer,guess)])\n",
    "        if t[0]==0:\n",
    "            print('Nothing!')\n",
    "            break\n",
    "        if t[1]>0:\n",
    "            print('rounds ->',x+1,',fija:',\\\n",
    "                  testguess(answer,guess)[1],'pica:',testguess(answer,guess)[2],'sum_fp:',t[0])\n",
    "            return [guess,testguess(answer,guess),'rounds->',x+1]\n",
    "            break\n",
    "        else:\n",
    "            guess.append(guess.pop(0))"
   ]
  },
  {
   "cell_type": "code",
   "execution_count": 2531,
   "metadata": {
    "collapsed": true
   },
   "outputs": [],
   "source": [
    "def fijas2(answer,guess):\n",
    "    \"\"\"solves for 1 fija if have a pica\"\"\"\n",
    "    h=guess\n",
    "    b=[h,[h[1],h[0],h[2],h[3]],[h[1],h[0],h[3],h[2]],[h[3],h[2],h[1],h[0]],[h[3],h[2],h[0],h[1]],[h[2],h[3],h[0],h[1]]]\n",
    "    for x,va in enumerate(b):\n",
    "        t =testguess(answer,va)\n",
    "        #print([x,guess,testguess(answer,guess)])\n",
    "        if t[0]==0:\n",
    "            print('Nothing!')\n",
    "            break\n",
    "        if t[1]>0:\n",
    "            print('rounds ->',x+1,',fija:',\\\n",
    "                  testguess(answer,va)[1],'pica:',testguess(answer,va)[2],'sum_fp:',t[0])\n",
    "            return [va,testguess(answer,va),'rounds->',x+1]\n",
    "            break"
   ]
  },
  {
   "cell_type": "code",
   "execution_count": 2532,
   "metadata": {
    "collapsed": true
   },
   "outputs": [],
   "source": [
    "def rotate(l, n):\n",
    "    return l[-n:]+ l[:-n]"
   ]
  },
  {
   "cell_type": "code",
   "execution_count": 2533,
   "metadata": {
    "collapsed": false
   },
   "outputs": [
    {
     "name": "stdout",
     "output_type": "stream",
     "text": [
      "0\n",
      "1\n",
      "2\n",
      "3\n",
      "4\n",
      "5\n"
     ]
    }
   ],
   "source": [
    "h=[0,1,2,3]\n",
    "b=[h,[h[1],h[0],h[2],h[3]],[h[1],h[0],h[3],h[2]],[h[3],h[2],h[1],h[0]],[h[3],h[2],h[0],h[1]],[h[2],h[3],h[0],h[1]]]\n",
    "for i,c in enumerate(b):\n",
    "    print(i)"
   ]
  },
  {
   "cell_type": "code",
   "execution_count": 3020,
   "metadata": {
    "collapsed": true
   },
   "outputs": [],
   "source": [
    "pl2 = [rd.randint(0,9),rd.randint(0,9),rd.randint(0,9),rd.randint(0,9)]"
   ]
  },
  {
   "cell_type": "code",
   "execution_count": 2803,
   "metadata": {
    "collapsed": false
   },
   "outputs": [
    {
     "data": {
      "text/plain": [
       "[9, 6, 6, 6]"
      ]
     },
     "execution_count": 2803,
     "metadata": {},
     "output_type": "execute_result"
    }
   ],
   "source": [
    "pl2 #[9, 6, 6, 6]"
   ]
  },
  {
   "cell_type": "code",
   "execution_count": 2816,
   "metadata": {
    "collapsed": false
   },
   "outputs": [
    {
     "name": "stdout",
     "output_type": "stream",
     "text": [
      "Nothing!\n",
      "rounds -> 1 ,fija: 1 pica: 0 sum_fp: 1\n",
      "3\n",
      "[4, 5, 6, 9]\n"
     ]
    }
   ],
   "source": [
    "ll=(i for i in range(10))\n",
    "\n",
    "j=[next(ll),next(ll),next(ll),next(ll)]\n",
    "if fijas(pl2,j)is None:\n",
    "    j=[next(ll),next(ll),next(ll),next(ll)]\n",
    "    fijas(pl2,j)\n",
    "else:\n",
    "    fijas(pl2,j)\n",
    "if testguess(pl2,j)[0]==1: #Sum Picafija=1\n",
    "    if testguess(pl2,j)[1]==1:#Sum Fija\n",
    "        if evaluate(j,[j[0]]+rotate(j[1:],1))[1]<0:\n",
    "            #hold first decrease means drop first\n",
    "            z=0\n",
    "            print(z)\n",
    "        if evaluate(j,[j[3],j[1],j[0],j[2]])[1]<0:\n",
    "            z=1\n",
    "            print(z)\n",
    "        if evaluate(j,[j[3],j[0],j[2],j[1]])[1]<0:\n",
    "            z=2\n",
    "            print(z)\n",
    "        if evaluate(j,rotate(j[:3],1)+[j[-1]])[1]<0:\n",
    "            z=3\n",
    "            print(z)\n",
    "m=j.copy()\n",
    "m[z]=next(ll)\n",
    "if evaluate(j,m)[0]==0:\n",
    "    m[z]=next(ll)\n",
    "else:\n",
    "    j=m\n",
    "if evaluate(j,m)[0]==0:\n",
    "    m[z]=next(ll)\n",
    "else:\n",
    "    j=m\n",
    "#j[z]=next(ll)\n",
    "#print(testguess(pl2,j)[0])\n",
    "if testguess(pl2,j)[0]==2:\n",
    "    knownFijaposition=[z]\n",
    "    print(j)"
   ]
  },
  {
   "cell_type": "code",
   "execution_count": 2818,
   "metadata": {
    "collapsed": false
   },
   "outputs": [
    {
     "data": {
      "text/plain": [
       "[2, 1, 1]"
      ]
     },
     "execution_count": 2818,
     "metadata": {},
     "output_type": "execute_result"
    }
   ],
   "source": [
    "# j[3]=8\n",
    "j\n",
    "testguess(pl2,j)"
   ]
  },
  {
   "cell_type": "code",
   "execution_count": 2819,
   "metadata": {
    "collapsed": false
   },
   "outputs": [
    {
     "data": {
      "text/plain": [
       "[0, 1, -1]"
      ]
     },
     "execution_count": 2819,
     "metadata": {},
     "output_type": "execute_result"
    }
   ],
   "source": [
    "evaluate(j,[9,5,4,6])"
   ]
  },
  {
   "cell_type": "code",
   "execution_count": 2820,
   "metadata": {
    "collapsed": false
   },
   "outputs": [
    {
     "data": {
      "text/plain": [
       "[2, 2, 0]"
      ]
     },
     "execution_count": 2820,
     "metadata": {},
     "output_type": "execute_result"
    }
   ],
   "source": [
    "testguess(pl2,[9,5,4,6])"
   ]
  },
  {
   "cell_type": "code",
   "execution_count": 2807,
   "metadata": {
    "collapsed": true
   },
   "outputs": [],
   "source": [
    "j=[4,5,6,9]"
   ]
  },
  {
   "cell_type": "code",
   "execution_count": 2808,
   "metadata": {
    "collapsed": false
   },
   "outputs": [
    {
     "data": {
      "text/plain": [
       "[0, 0, 0]"
      ]
     },
     "execution_count": 2808,
     "metadata": {},
     "output_type": "execute_result"
    }
   ],
   "source": [
    "evaluate([4,5,6,7],[4, 5, 6, 8])"
   ]
  },
  {
   "cell_type": "code",
   "execution_count": 2801,
   "metadata": {
    "collapsed": false
   },
   "outputs": [
    {
     "data": {
      "text/plain": [
       "[4, 5, 6, 9]"
      ]
     },
     "execution_count": 2801,
     "metadata": {},
     "output_type": "execute_result"
    }
   ],
   "source": [
    "j"
   ]
  },
  {
   "cell_type": "code",
   "execution_count": null,
   "metadata": {
    "collapsed": true
   },
   "outputs": [],
   "source": [
    "print(evaluate(j,[j[0]]+rotate(j[1:],1) ),#hold first decrease means drop first\n",
    "evaluate(j,[j[3],j[1],j[0],j[2]] ), #hold 2nd decrease means drop 2nd\n",
    "evaluate(j,[j[3],j[0],j[2],j[1]] ), #hold 3rd decrease means drop 3rd\n",
    "evaluate(j,rotate(j[:3],1)+[j[-1]] ) ) #hold last decrease means drop last"
   ]
  },
  {
   "cell_type": "code",
   "execution_count": 2802,
   "metadata": {
    "collapsed": false
   },
   "outputs": [
    {
     "name": "stdout",
     "output_type": "stream",
     "text": [
      "[0, 0, 0] [0, 1, -1] [0, 1, -1] [0, -1, 1]\n"
     ]
    }
   ],
   "source": [
    "print(evaluate(j,[j[0]]+rotate(j[1:],1) ),#hold first decrease means drop first\n",
    "evaluate(j,[j[3],j[1],j[0],j[2]] ), #hold 2nd decrease means drop 2nd\n",
    "evaluate(j,[j[3],j[0],j[2],j[1]] ), #hold 3rd decrease means drop 3rd\n",
    "evaluate(j,rotate(j[:3],1)+[j[-1]] ) ) #hold last decrease means drop last"
   ]
  },
  {
   "cell_type": "code",
   "execution_count": 2838,
   "metadata": {
    "collapsed": false
   },
   "outputs": [
    {
     "data": {
      "text/plain": [
       "[2, 9, 4, 6]"
      ]
     },
     "execution_count": 2838,
     "metadata": {},
     "output_type": "execute_result"
    }
   ],
   "source": [
    "[d for d in range(max(pop)+1,10)]\n",
    "pop"
   ]
  },
  {
   "cell_type": "code",
   "execution_count": 2845,
   "metadata": {
    "collapsed": false
   },
   "outputs": [
    {
     "data": {
      "text/plain": [
       "[9, 6, 6, 6]"
      ]
     },
     "execution_count": 2845,
     "metadata": {},
     "output_type": "execute_result"
    }
   ],
   "source": [
    "pl2"
   ]
  },
  {
   "cell_type": "code",
   "execution_count": 2896,
   "metadata": {
    "collapsed": true
   },
   "outputs": [],
   "source": [
    "def holdSwap(lis, hold):\n",
    "    m=[y for y in range(4) if y not in hold]\n",
    "    #print(m)\n",
    "    x=[0,0,0,0]\n",
    "    x[hold[0]]=lis[hold[0]]\n",
    "    x[hold[1]]=lis[hold[1]]\n",
    "    x[m[0]]=lis[m[1]]\n",
    "    x[m[1]]=lis[m[0]]\n",
    "    return x"
   ]
  },
  {
   "cell_type": "code",
   "execution_count": 2925,
   "metadata": {
    "collapsed": false
   },
   "outputs": [
    {
     "data": {
      "text/plain": [
       "[9, 8, 3, 2, 1, 0]"
      ]
     },
     "execution_count": 2925,
     "metadata": {},
     "output_type": "execute_result"
    }
   ],
   "source": [
    "sorted([y for y in range(10) if y not in pop],reverse=True)"
   ]
  },
  {
   "cell_type": "code",
   "execution_count": 3026,
   "metadata": {
    "collapsed": true
   },
   "outputs": [],
   "source": [
    "def addnewNumber(lis):\n",
    "    pos=0\n",
    "    m=[y for y in range(10) if y not in lis]#sorted([y for y in range(10) if y not in lis],reverse=True)\n",
    "    x=lis.copy()\n",
    "    print(x,m)\n",
    "    for l in m:\n",
    "        x[pos]=l\n",
    "        print(1,evaluate(lis,x),lis,x)\n",
    "        if evaluate(lis,x)[1]<0 and evaluate(lis,x)[0]<0:\n",
    "            pos+=1\n",
    "            x=lis.copy()\n",
    "            print('return')\n",
    "        elif evaluate(lis,x)[1]<0 and evaluate(lis,x)[0]>=0:\n",
    "            pos+=1\n",
    "            x=lis.copy()\n",
    "            m.append(l)\n",
    "            print('return but..')\n",
    "        elif evaluate(lis,x)[0]>0:\n",
    "            return x\n",
    "        #print(2,evaluate(lis,x),lis,x)\n",
    "#     x[hold[1]]=lis[hold[1]]\n",
    "#     x[m[0]]=lis[m[1]]\n",
    "#     x[m[1]]=lis[m[0]]\n",
    "#     return x"
   ]
  },
  {
   "cell_type": "code",
   "execution_count": 3008,
   "metadata": {
    "collapsed": false
   },
   "outputs": [
    {
     "name": "stdout",
     "output_type": "stream",
     "text": [
      "[9, 5, 6, 7] [0, 1, 2, 3, 4, 8]\n",
      "1 [-1, -1, 0] [9, 5, 6, 7] [0, 5, 6, 7]\n",
      "return\n",
      "1 [0, 0, 0] [9, 5, 6, 7] [9, 1, 6, 7]\n",
      "1 [0, 0, 0] [9, 5, 6, 7] [9, 2, 6, 7]\n",
      "1 [0, 0, 0] [9, 5, 6, 7] [9, 3, 6, 7]\n",
      "1 [0, 0, 0] [9, 5, 6, 7] [9, 4, 6, 7]\n",
      "1 [0, 0, 0] [9, 5, 6, 7] [9, 8, 6, 7]\n"
     ]
    }
   ],
   "source": [
    "#print(pop)\n",
    "#pl2=[9, 6, 6, 6]\n",
    "pop1=[9,5,6,7]\n",
    "# pop=[4,5,6,7]\n",
    "addnewNumber(pop1)\n",
    "# print(pop)\n",
    "# pop1 = addnewNumber(pop)\n",
    "# print(pop1)\n",
    "# testguess(pl2,pop1)"
   ]
  },
  {
   "cell_type": "code",
   "execution_count": 2899,
   "metadata": {
    "collapsed": false
   },
   "outputs": [
    {
     "name": "stdout",
     "output_type": "stream",
     "text": [
      "[2, 9, 6, 4] [0, 0, 0]\n",
      "[2, 6, 4, 9] [0, 0, 0]\n",
      "[2, 4, 9, 6] [0, 0, 0]\n",
      "[6, 9, 4, 2] [0, -1, 1]\n",
      "[4, 9, 2, 6] [0, 0, 0]\n",
      "[9, 2, 4, 6] [0, 1, -1]\n",
      "[2, 9, 4, 6]\n"
     ]
    }
   ],
   "source": [
    "for h in [ [int(x),int(y)] for x,y in it.combinations('0123',2)]:\n",
    "    contender = holdSwap(pop,h)\n",
    "    if evaluate(pop,contender)[1]>0:\n",
    "        pop = contender\n",
    "        print(holdSwap(pop,h),evaluate(pop,contender))\n",
    "        break\n",
    "print(pop)\n"
   ]
  },
  {
   "cell_type": "code",
   "execution_count": 2890,
   "metadata": {
    "collapsed": false
   },
   "outputs": [
    {
     "name": "stdout",
     "output_type": "stream",
     "text": [
      "[0, 2]\n",
      "[4, 9, 2, 6] [2, 9, 4, 6]\n"
     ]
    }
   ],
   "source": [
    "print(holdSwap(pop,[1,3]),pop)"
   ]
  },
  {
   "cell_type": "code",
   "execution_count": 2875,
   "metadata": {
    "collapsed": false
   },
   "outputs": [
    {
     "name": "stdout",
     "output_type": "stream",
     "text": [
      "[0, 0, 0] [2, 9, 6, 4] hold 01--\n",
      "[0, 0, 0] [2, 6, 4, 9] hold 0-2-\n",
      "[0, 0, 0] [2, 4, 9, 6] hold 0--3\n",
      "[0, -1, 1] [6, 9, 4, 2] hold -12-\n",
      "[0, 0, 0] [4, 9, 2, 6] hold -1-3\n",
      "[0, 1, -1] [9, 2, 4, 6] hold --23\n",
      "[2, 1, 1] [2, 9, 4, 6]\n"
     ]
    }
   ],
   "source": [
    "print(evaluate(pop,[pop[0],pop[1],pop[3],pop[2]])\n",
    ",[pop[0],pop[1],pop[3],pop[2]],'hold 01--' )\n",
    "print(evaluate(pop,[pop[0],pop[3],pop[2],pop[1]])\n",
    ",[pop[0],pop[3],pop[2],pop[1]],'hold 0-2-' )\n",
    "print(evaluate(pop,[pop[0],pop[2],pop[1],pop[3]])\n",
    ",[pop[0],pop[2],pop[1],pop[3]],'hold 0--3' )\n",
    "print(evaluate(pop,[pop[3],pop[1],pop[2],pop[0]])\n",
    ",[pop[3],pop[1],pop[2],pop[0]],'hold -12-')\n",
    "print(evaluate(pop,[pop[2],pop[1],pop[0],pop[3]])\n",
    ",[pop[2],pop[1],pop[0],pop[3]],'hold -1-3')\n",
    "print(evaluate(pop,[pop[1],pop[0],pop[2],pop[3]])\n",
    ",[pop[1],pop[0],pop[2],pop[3]],'hold --23')\n",
    "print(testguess(pl2,pop),pop)"
   ]
  },
  {
   "cell_type": "code",
   "execution_count": 3032,
   "metadata": {
    "collapsed": false
   },
   "outputs": [
    {
     "name": "stdout",
     "output_type": "stream",
     "text": [
      "[9, 5, 6, 7]\n",
      "get new number\n",
      "[9, 5, 6, 7] [0, 1, 2, 3, 4, 8]\n",
      "1 [-1, -1, 0] [9, 5, 6, 7] [0, 5, 6, 7]\n",
      "return\n",
      "1 [0, 0, 0] [9, 5, 6, 7] [9, 1, 6, 7]\n",
      "1 [0, 0, 0] [9, 5, 6, 7] [9, 2, 6, 7]\n",
      "1 [0, 0, 0] [9, 5, 6, 7] [9, 3, 6, 7]\n",
      "1 [0, 0, 0] [9, 5, 6, 7] [9, 4, 6, 7]\n",
      "1 [0, 0, 0] [9, 5, 6, 7] [9, 8, 6, 7]\n",
      "duplicates??\n"
     ]
    },
    {
     "data": {
      "text/plain": [
       "[9, 5, 6, 7]"
      ]
     },
     "execution_count": 3032,
     "metadata": {},
     "output_type": "execute_result"
    }
   ],
   "source": [
    "#pl2=[9,6,6,6] \n",
    "#[0, 6, 8, 4]\n",
    "#pop=[4,5,6,7]#[0,1,2,3]\n",
    "#fijas(pl2,pop)\n",
    "#pop=[92]\n",
    "print(pop)\n",
    "if testguess(pl2,pop)[0]==testguess(pl2,pop)[1]:\n",
    "    print('get new number')\n",
    "    if addnewNumber(pop) is not None:\n",
    "        pop = addnewNumber(pop)\n",
    "        print(pop)\n",
    "    else:\n",
    "        print('duplicates??')\n",
    "else:\n",
    "    print('gain another fija')\n",
    "    for h in [ [int(x),int(y)] for x,y in it.combinations('0123',2)]:\n",
    "        contender = holdSwap(pop,h)\n",
    "        if evaluate(pop,contender)[1]>0:\n",
    "            print(h,pop,holdSwap(pop,h),evaluate(pop,contender))\n",
    "            pop = contender\n",
    "            print(testguess(pl2,pop))\n",
    "            break\n",
    "pop"
   ]
  },
  {
   "cell_type": "code",
   "execution_count": 3024,
   "metadata": {
    "collapsed": false
   },
   "outputs": [
    {
     "data": {
      "text/plain": [
       "[0, 6, 8, 4]"
      ]
     },
     "execution_count": 3024,
     "metadata": {},
     "output_type": "execute_result"
    }
   ],
   "source": [
    "pl2"
   ]
  },
  {
   "cell_type": "code",
   "execution_count": 3033,
   "metadata": {
    "collapsed": false
   },
   "outputs": [
    {
     "data": {
      "text/plain": [
       "[2, 2, 0]"
      ]
     },
     "execution_count": 3033,
     "metadata": {},
     "output_type": "execute_result"
    }
   ],
   "source": [
    "testguess(pl2,pop)"
   ]
  },
  {
   "cell_type": "code",
   "execution_count": 2681,
   "metadata": {
    "collapsed": false
   },
   "outputs": [
    {
     "name": "stdout",
     "output_type": "stream",
     "text": [
      "[1, 2, 7, 2] WIN\n"
     ]
    },
    {
     "data": {
      "text/plain": [
       "[1, 1, 0]"
      ]
     },
     "execution_count": 2681,
     "metadata": {},
     "output_type": "execute_result"
    }
   ],
   "source": [
    "#pl2=3572\n",
    "#j=3012\n",
    "fijas(pl2,j)\n",
    "evaluate(j,)"
   ]
  },
  {
   "cell_type": "code",
   "execution_count": 2614,
   "metadata": {
    "collapsed": false
   },
   "outputs": [
    {
     "name": "stdout",
     "output_type": "stream",
     "text": [
      "[0, 1, 2, 3] 5\n"
     ]
    }
   ],
   "source": [
    "for i,c in enumerate(b):\n",
    "    if c== decide(j,c):\n",
    "        win=c\n",
    "        ct=i\n",
    "    else:\n",
    "        if win==decide(win,c):\n",
    "            win=win\n",
    "            ct=i\n",
    "        else:\n",
    "            ct=i\n",
    "            win=c\n",
    "print(win,ct)"
   ]
  },
  {
   "cell_type": "code",
   "execution_count": 2823,
   "metadata": {
    "collapsed": false
   },
   "outputs": [
    {
     "data": {
      "text/plain": [
       "[1, 1, 0]"
      ]
     },
     "execution_count": 2823,
     "metadata": {},
     "output_type": "execute_result"
    }
   ],
   "source": [
    "j=[4,5,6,7]\n",
    "\n",
    "testguess(pl2,j)"
   ]
  },
  {
   "cell_type": "code",
   "execution_count": 2521,
   "metadata": {
    "collapsed": false
   },
   "outputs": [
    {
     "data": {
      "text/plain": [
       "[1, 1, 0]"
      ]
     },
     "execution_count": 2521,
     "metadata": {},
     "output_type": "execute_result"
    }
   ],
   "source": [
    "j=[0,1,2,3]#0F 1P\n",
    "j=[1,0,2,3]#0F 1P left or right\n",
    "j=[1,0,3,2]#0F 1P\n",
    "j=[3,2,1,0]#0F 1p\n",
    "j=[2,3,0,1]#1F\n",
    "j=[2,4,0,5]#1F 1P\n",
    "j=[2,4,5,0]#1F 1P\n",
    "j=[2,5,4,6]#2F 0P\n",
    "j=[2,7,4,8]#3F\n",
    "j=[2,7,4,7]\n",
    "\n",
    "testguess(pl2,j)"
   ]
  },
  {
   "cell_type": "code",
   "execution_count": 2522,
   "metadata": {
    "collapsed": false
   },
   "outputs": [
    {
     "data": {
      "text/plain": [
       "[2, 0, 2]"
      ]
     },
     "execution_count": 2522,
     "metadata": {},
     "output_type": "execute_result"
    }
   ],
   "source": [
    "j=[0,1,2,3]#0F 2P\n",
    "j=[1,0,2,3]#0F 2P\n",
    "j=[2,3,1,0]#0F 2P\n",
    "j=[2,3,0,1]#1F 1P\n",
    "j=[3,2,0,1]#2F\n",
    "j=[3,1,0,2]#2F\n",
    "j=[0,1,3,2]#0F ~1,2 !3on1,0on3\n",
    "j=[3,4,0,5]#2F 1P\n",
    "j=[3,5,0,4]#3F\n",
    "j=[3,5,0,4]#3F +2 !5on2\n",
    "j=[3,5,0,9]# +2\n",
    "testguess(pl2,j)"
   ]
  },
  {
   "cell_type": "code",
   "execution_count": 2523,
   "metadata": {
    "collapsed": false
   },
   "outputs": [
    {
     "data": {
      "text/plain": [
       "[3, 0, 3]"
      ]
     },
     "execution_count": 2523,
     "metadata": {},
     "output_type": "execute_result"
    }
   ],
   "source": [
    "j=[0,1,2,3]#0F\n",
    "j=[1,0,2,3]#1F\n",
    "j=[1,2,0,3]#2F\n",
    "j=[1,2,0,9]#2F\n",
    "j=[1,2,9,0]\n",
    "testguess(pl2,j)"
   ]
  },
  {
   "cell_type": "code",
   "execution_count": 2524,
   "metadata": {
    "collapsed": false
   },
   "outputs": [
    {
     "data": {
      "text/plain": [
       "[2, 0, 2]"
      ]
     },
     "execution_count": 2524,
     "metadata": {},
     "output_type": "execute_result"
    }
   ],
   "source": [
    "j=[0,1,2,3] #0F 2P Random guess vs 0123? random better than 0123 start point?\n",
    "j=[1,0,2,3] #1F Left or Right. matter if 2 or 3 Fija @ start? or only work for 1 fija/pica @ start?...\n",
    "#THIS doesnt matter. but the true fija doesnt mean it's on the same side just the source is L/Right.\n",
    "j=[1,3,2,0]#0F knownfija is 0 1 worthless \n",
    "j=[2,0,3,1]#1F\n",
    "j=[1,0,3,2]#1F\n",
    "j=[3,0,1,2]\n",
    "testguess(pl2,j)"
   ]
  },
  {
   "cell_type": "code",
   "execution_count": 2525,
   "metadata": {
    "collapsed": false
   },
   "outputs": [
    {
     "data": {
      "text/plain": [
       "[3, 0, 3]"
      ]
     },
     "execution_count": 2525,
     "metadata": {},
     "output_type": "execute_result"
    }
   ],
   "source": [
    "j=[0,1,2,3]#1F\n",
    "j=[1,0,2,3]#2F held right both sides Fija\n",
    "j=[1,3,2,0]#2F no need to try other option.impossible.\n",
    "j=[1,4,2,5]#2F 1P\n",
    "j=[1,5,4,2]#2F because I know 1524 is 3F because 1_2_is 2KnownFija and 1425 is 2F\n",
    "j=[1,2,5,4]#1f ~4\n",
    "j=[1,5,2,6]#3F but known Fija is 152 so ~6\n",
    "j=[1,5,2,7]#\n",
    "testguess(pl2,j)"
   ]
  },
  {
   "cell_type": "code",
   "execution_count": 2526,
   "metadata": {
    "collapsed": false
   },
   "outputs": [
    {
     "data": {
      "text/plain": [
       "[1, 0, 1]"
      ]
     },
     "execution_count": 2526,
     "metadata": {},
     "output_type": "execute_result"
    }
   ],
   "source": [
    "j=[0,1,2,3]\n",
    "j=[0,1,3,2]#1F\n",
    "j=[0,1,2,3]#0F\n",
    "j=[6,7,3,2]#2F\n",
    "j=[2,7,3,6]#1F\n",
    "j=[6,3,7,2]#2F\n",
    "j=[6,2,3,7]#0F\n",
    "j=[3,7,6,2]#2F (7,2)\n",
    "j=[8,7,9,2]#3F\n",
    "j=[7,8,9,2]#1F ~9\n",
    "j=[8,7,2,2]\n",
    "j=[8,7,7,2]\n",
    "testguess(pl2,j)"
   ]
  },
  {
   "cell_type": "code",
   "execution_count": 2528,
   "metadata": {
    "collapsed": false
   },
   "outputs": [
    {
     "ename": "TypeError",
     "evalue": "fijas() takes 2 positional arguments but 3 were given",
     "output_type": "error",
     "traceback": [
      "\u001b[1;31m---------------------------------------------------------------------------\u001b[0m",
      "\u001b[1;31mTypeError\u001b[0m                                 Traceback (most recent call last)",
      "\u001b[1;32m<ipython-input-2528-35597148a860>\u001b[0m in \u001b[0;36m<module>\u001b[1;34m()\u001b[0m\n\u001b[0;32m      2\u001b[0m \u001b[0mj\u001b[0m\u001b[1;33m=\u001b[0m\u001b[1;33m[\u001b[0m\u001b[1;36m0\u001b[0m\u001b[1;33m,\u001b[0m\u001b[1;36m1\u001b[0m\u001b[1;33m,\u001b[0m\u001b[1;36m2\u001b[0m\u001b[1;33m,\u001b[0m\u001b[1;36m3\u001b[0m\u001b[1;33m]\u001b[0m\u001b[1;33m\u001b[0m\u001b[0m\n\u001b[0;32m      3\u001b[0m \u001b[1;32mif\u001b[0m \u001b[0mtestguess\u001b[0m\u001b[1;33m(\u001b[0m\u001b[0mpl2\u001b[0m\u001b[1;33m,\u001b[0m\u001b[0mj\u001b[0m\u001b[1;33m)\u001b[0m\u001b[1;33m[\u001b[0m\u001b[1;36m0\u001b[0m\u001b[1;33m]\u001b[0m \u001b[1;33m!=\u001b[0m \u001b[1;36m0\u001b[0m\u001b[1;33m:\u001b[0m\u001b[1;33m\u001b[0m\u001b[0m\n\u001b[1;32m----> 4\u001b[1;33m     \u001b[0mfijas\u001b[0m\u001b[1;33m(\u001b[0m\u001b[0mpl2\u001b[0m\u001b[1;33m,\u001b[0m\u001b[0mj\u001b[0m\u001b[1;33m,\u001b[0m\u001b[0mtestguess\u001b[0m\u001b[1;33m(\u001b[0m\u001b[0mpl2\u001b[0m\u001b[1;33m,\u001b[0m\u001b[0mj\u001b[0m\u001b[1;33m)\u001b[0m\u001b[1;33m)\u001b[0m\u001b[1;33m[\u001b[0m\u001b[1;36m0\u001b[0m\u001b[1;33m]\u001b[0m\u001b[1;33m\u001b[0m\u001b[0m\n\u001b[0m\u001b[0;32m      5\u001b[0m \u001b[0mj\u001b[0m\u001b[1;33m\u001b[0m\u001b[0m\n",
      "\u001b[1;31mTypeError\u001b[0m: fijas() takes 2 positional arguments but 3 were given"
     ]
    }
   ],
   "source": [
    "pl2 = [rd.randint(0,9),rd.randint(0,9),rd.randint(0,9),rd.randint(0,9)]\n",
    "j=[0,1,2,3]\n",
    "if testguess(pl2,j)[0] != 0:\n",
    "    fijas(pl2,j,testguess(pl2,j))[0]\n",
    "j"
   ]
  },
  {
   "cell_type": "code",
   "execution_count": 2258,
   "metadata": {
    "collapsed": false
   },
   "outputs": [
    {
     "name": "stdout",
     "output_type": "stream",
     "text": [
      "[1, 9, 2, 0] WIN\n",
      "[1, 9, 2, 0] WIN\n",
      "[1, 9, 2, 0] WIN\n",
      "[1, 9, 2, 0] WIN\n",
      "[1, 9, 2, 0] WIN\n",
      "1 fija: 4 pica: 0 sum_fp: 4\n",
      "[1, 9, 2, 0] WIN\n",
      "[1, 9, 2, 0] WIN\n",
      "[1, 9, 2, 0] WIN\n",
      "[1, 9, 2, 0] WIN\n",
      "[1, 9, 2, 0] WIN\n",
      "1 fija: 4 pica: 0 sum_fp: 4\n",
      "[1, 9, 2, 0] WIN\n",
      "[1, 9, 2, 0] WIN\n",
      "[1, 9, 2, 0] WIN\n",
      "[1, 9, 2, 0] WIN\n",
      "[1, 9, 2, 0] WIN\n",
      "[1, 9, 2, 0] WIN\n",
      "[1, 9, 2, 0] WIN\n",
      "[1, 9, 2, 0] WIN\n",
      "[1, 9, 2, 0] WIN\n",
      "[1, 9, 2, 0] WIN\n"
     ]
    },
    {
     "data": {
      "text/plain": [
       "{'1start': [[1, 9, 2, 0], [4, 4, 0], 4],\n",
       " 'Hold 1st 2': [[1, 9, 0, 2], [4, 2, 2], 2],\n",
       " 'Hold 1st 3': [[1, 2, 9, 0], [4, 2, 2], 2],\n",
       " 'Hold 1st 4': [[1, 2, 0, 9], [4, 1, 3], 1],\n",
       " 'Hold 1st 5': [[1, 0, 9, 2], [4, 1, 3], 1],\n",
       " 'Hold 1st 6': [[1, 0, 2, 9], [4, 2, 2], 2],\n",
       " 'Hold 2nd 2': [[1, 9, 0, 2], [4, 2, 2], 2],\n",
       " 'Hold 2nd 3': [[2, 9, 1, 0], [4, 2, 2], 2],\n",
       " 'Hold 2nd 4': [[2, 9, 0, 1], [4, 1, 3], 1],\n",
       " 'Hold 2nd 5': [[0, 9, 1, 2], [4, 1, 3], 1],\n",
       " 'Hold 2nd 6': [[0, 9, 2, 1], [4, 2, 2], 2],\n",
       " 'Hold 3rd 2': [[1, 0, 2, 9], [4, 2, 2], 2],\n",
       " 'Hold 3rd 3': [[9, 1, 2, 0], [4, 2, 2], 2],\n",
       " 'Hold 3rd 4': [[9, 0, 2, 1], [4, 1, 3], 1],\n",
       " 'Hold 3rd 5': [[0, 1, 2, 9], [4, 1, 3], 1],\n",
       " 'Hold 3rd 6': [[0, 9, 2, 1], [4, 2, 2], 2],\n",
       " 'Hold 4th 2': [[1, 2, 9, 0], [4, 2, 2], 2],\n",
       " 'Hold 4th 3': [[9, 1, 2, 0], [4, 2, 2], 2],\n",
       " 'Hold 4th 4': [[9, 2, 1, 0], [4, 1, 3], 1],\n",
       " 'Hold 4th 5': [[2, 1, 9, 0], [4, 1, 3], 1],\n",
       " 'Hold 4th 6': [[2, 9, 1, 0], [4, 2, 2], 2]}"
      ]
     },
     "execution_count": 2258,
     "metadata": {},
     "output_type": "execute_result"
    }
   ],
   "source": [
    "j=[1,9,2, 0]\n",
    "fk={}\n",
    "if testguess(pl2,j)[0] != 0:\n",
    "    j=fijas(pl2,j,testguess(pl2,j))[0]\n",
    "    fk['1start']=fijas(pl2,j,testguess(pl2,j))+[testguess(pl2,j)[1]]\n",
    "    for i,x in enumerate(list([[j[0]]+list(c),testguess(pl2,[j[0]]+list(c)),testguess(pl2,[j[0]]+list(c))[1]] for c in it.permutations(j[1:],3))):\n",
    "        if x[0]!=j:\n",
    "            #print(x[0])\n",
    "            fk['Hold 1st '+str(i+1)]=x\n",
    "    for i,x in enumerate(list([list(c)[:1]+[j[1]]+list(c)[1:],testguess(pl2,list(c)[:1]+[j[1]]+list(c)[1:]),testguess(pl2,list(c)[:1]+[j[1]]+list(c)[1:])[1]] for c in it.permutations([j[0],j[2],j[3]],3))):\n",
    "        if x[0]!=j:\n",
    "            #print(x[0])\n",
    "            fk['Hold 2nd '+str(i+1)]=x\n",
    "    for i,x in enumerate(list([list(c)[:2]+[j[2]]+list(c)[2:],testguess(pl2,list(c)[:2]+[j[2]]+list(c)[2:]),testguess(pl2,list(c)[:2]+[j[2]]+list(c)[2:])[1]] for c in it.permutations([j[0],j[1],j[3]],3))):\n",
    "        if x[0]!=j:\n",
    "            #print(x[0])\n",
    "            fk['Hold 3rd '+str(i+1)]=x\n",
    "    for i,x in enumerate(list([list(c)+[j[3]],testguess(pl2,list(c)+[j[3]]),testguess(pl2,list(c)+[j[3]])[1]] for c in it.permutations(j[:3],3))):\n",
    "        if x[0]!=j:\n",
    "            #print(x[0])\n",
    "            fk['Hold 4th '+str(i+1)]=x\n",
    "fk\n",
    "#definitivelyknow is in?"
   ]
  },
  {
   "cell_type": "code",
   "execution_count": 2247,
   "metadata": {
    "collapsed": false
   },
   "outputs": [
    {
     "name": "stdout",
     "output_type": "stream",
     "text": [
      "max is 3 #1 {0: [0, 1], 1: [0, 0, 0, 1], 2: [0, 0, 1], 3: [1]} \n",
      "2Mx is 2 #4 {0: [0, 2, 0, 2], 1: [2, 2], 2: [0, 0, 4], 3: [2, 0, 0, 2]} \n",
      " FULL max is 3 #21 {0: [9, 4, 4, 4], 1: [4, 9, 4, 4], 2: [4, 4, 9, 4], 3: [4, 4, 4, 9]} \n",
      "Z0x is 0 #10 {0: [6, 0, 3, 1], 1: [1, 5, 3, 1], 2: [3, 4, 0, 3], 3: [0, 1, 4, 5]}\n"
     ]
    }
   ],
   "source": [
    "maxFija = max(fk.items(), key=lambda x: x[1][2])[1][2]\n",
    "JJ={}\n",
    "for c in fk.items():\n",
    "    JJ[c[0]]=c[1:]\n",
    "JJ\n",
    "Jpp={}\n",
    "for x in range(4):\n",
    "    g=[]\n",
    "    for c in JJ.items():\n",
    "        g.append(c[1][0][0][x])    \n",
    "    Jpp[x]= list(np.bincount(g))\n",
    "Jpp\n",
    "if maxFija>=1:\n",
    "    lp={}\n",
    "    for c in fk.items():\n",
    "        if c[1][2]==max(fk.items(), key=lambda x: x[1][2])[1][2]:\n",
    "            lp[c[0]]=c[1:]\n",
    "    lp\n",
    "    pp={}\n",
    "    for x in range(4):\n",
    "        g=[]\n",
    "        for c in lp.items():\n",
    "            g.append(c[1][0][0][x])    \n",
    "        pp[x]= list(np.bincount(g))\n",
    "    \n",
    "    #2nd max\n",
    "    lp1={}\n",
    "    max2 = max(fk.items(), key=lambda x: x[1][2])[1][2]-1\n",
    "    if max2<10:\n",
    "        for c in fk.items():\n",
    "            if c[1][2]==max(fk.items(), key=lambda x: x[1][2])[1][2]-1:\n",
    "                lp1[c[0]]=c[1:]\n",
    "        lp1\n",
    "        pp1={}\n",
    "        for x in range(4):\n",
    "            g=[]\n",
    "            for c in lp1.items():\n",
    "                g.append(c[1][0][0][x])    \n",
    "            pp1[x]= list(np.bincount(g))\n",
    "    \n",
    "    \n",
    "    lp0={}\n",
    "    for c in fk.items():\n",
    "        if c[1][2]==0:\n",
    "            lp0[c[0]]=c[1:]\n",
    "    lp0\n",
    "    pp0={}\n",
    "    for x in range(4):\n",
    "        g=[]\n",
    "        for c in lp0.items():\n",
    "            g.append(c[1][0][0][x])    \n",
    "        pp0[x]= list(np.bincount(g))\n",
    "\n",
    "print('max is {} #{}'.format(maxFija,len(lp)),pp,'\\n2Mx is {} #{}'.format(max2,len(lp1)),pp1,\n",
    "      '\\n FULL max is {} #{}'.format(maxFija,len(JJ)),Jpp,\n",
    "     '\\nZ0x is {} #{}'.format(0,len(lp0)),pp0)"
   ]
  },
  {
   "cell_type": "code",
   "execution_count": 2248,
   "metadata": {
    "collapsed": false
   },
   "outputs": [
    {
     "name": "stdout",
     "output_type": "stream",
     "text": [
      "([[1, 0, 2, 3], [3, 2, 1], 2],) 3\n",
      "([[0, 2, 3, 1], [3, 0, 3], 0],) 3\n",
      "([[2, 0, 1, 3], [3, 0, 3], 0],) 3\n",
      "([[0, 3, 2, 1], [3, 1, 2], 1],) 3\n",
      "([[3, 1, 2, 0], [3, 2, 1], 2],) 3\n",
      "([[0, 3, 2, 1], [3, 1, 2], 1],) 3\n",
      "([[3, 1, 2, 0], [3, 2, 1], 2],) 3\n",
      "([[1, 3, 2, 0], [3, 3, 0], 3],) 3\n",
      "([[0, 1, 3, 2], [3, 0, 3], 0],) 3\n",
      "([[0, 3, 1, 2], [3, 0, 3], 0],) 3\n",
      "([[2, 1, 0, 3], [3, 0, 3], 0],) 3\n",
      "([[0, 1, 2, 3], [3, 1, 2], 1],) 3\n",
      "([[0, 2, 1, 3], [3, 0, 3], 0],) 3\n",
      "([[0, 2, 1, 3], [3, 0, 3], 0],) 3\n",
      "([[3, 0, 2, 1], [3, 1, 2], 1],) 3\n",
      "([[2, 1, 0, 3], [3, 0, 3], 0],) 3\n",
      "([[3, 1, 0, 2], [3, 0, 3], 0],) 3\n",
      "([[0, 1, 3, 2], [3, 0, 3], 0],) 3\n",
      "([[1, 0, 2, 3], [3, 2, 1], 2],) 3\n",
      "([[1, 2, 0, 3], [3, 1, 2], 1],) 3\n",
      "([[2, 1, 3, 0], [3, 1, 2], 1],) 3\n"
     ]
    }
   ],
   "source": [
    "#when 3 fija but dont find the difference\n",
    "for c in fk.items():\n",
    "    if c[1][1][0]==maxFija:\n",
    "        print(c[1:],c[1][1][0])"
   ]
  },
  {
   "cell_type": "code",
   "execution_count": 2249,
   "metadata": {
    "collapsed": false
   },
   "outputs": [
    {
     "data": {
      "text/plain": [
       "{'Hold 3rd 4': ([[1, 3, 2, 0], [3, 3, 0], 3],)}"
      ]
     },
     "execution_count": 2249,
     "metadata": {},
     "output_type": "execute_result"
    }
   ],
   "source": [
    "lp"
   ]
  },
  {
   "cell_type": "code",
   "execution_count": 2250,
   "metadata": {
    "collapsed": false
   },
   "outputs": [
    {
     "name": "stdout",
     "output_type": "stream",
     "text": [
      "T: 1  maxFija: 3\n",
      "1 1.0\n",
      "3 1.0\n",
      "2 1.0\n",
      "0 1.0\n"
     ]
    }
   ],
   "source": [
    "print('T:',len(lp),' maxFija:',maxFija)\n",
    "for f in pp.keys():\n",
    "    print(pp[f].index(max(pp[f])),max(pp[f])/len(lp))"
   ]
  },
  {
   "cell_type": "code",
   "execution_count": 2243,
   "metadata": {
    "collapsed": false
   },
   "outputs": [
    {
     "name": "stdout",
     "output_type": "stream",
     "text": [
      "T: 4  mF-1: 2\n",
      "4 0.75\n",
      "6 0.5\n",
      "5 0.5\n",
      "1 0.75\n"
     ]
    }
   ],
   "source": [
    "print('T:',len(lp1),' mF-1:',max2)\n",
    "for f in pp1.keys():\n",
    "    print(pp1[f].index(max(pp1[f])),max(pp1[f])/len(lp1))"
   ]
  },
  {
   "cell_type": "code",
   "execution_count": 2228,
   "metadata": {
    "collapsed": false
   },
   "outputs": [
    {
     "name": "stdout",
     "output_type": "stream",
     "text": [
      "4 0.428571428571 21\n",
      "2 0.428571428571 21\n",
      "5 0.428571428571 21\n",
      "6 0.428571428571 21\n"
     ]
    }
   ],
   "source": [
    "for f in Jpp.keys():\n",
    "    print(Jpp[f].index(max(Jpp[f])),max(Jpp[f])/len(JJ),len(JJ))"
   ]
  },
  {
   "cell_type": "code",
   "execution_count": 2229,
   "metadata": {
    "collapsed": false
   },
   "outputs": [
    {
     "name": "stdout",
     "output_type": "stream",
     "text": [
      "T: 10\n",
      "4 0.6\n",
      "6 0.4\n",
      "5 0.6\n",
      "2 0.4\n"
     ]
    }
   ],
   "source": [
    "print('T:',len(lp0))\n",
    "for f in pp0.keys():\n",
    "    print(pp0[f].index(max(pp0[f])),max(pp0[f])/len(lp0))"
   ]
  },
  {
   "cell_type": "code",
   "execution_count": null,
   "metadata": {
    "collapsed": false
   },
   "outputs": [],
   "source": []
  },
  {
   "cell_type": "code",
   "execution_count": null,
   "metadata": {
    "collapsed": true
   },
   "outputs": [],
   "source": []
  },
  {
   "cell_type": "code",
   "execution_count": null,
   "metadata": {
    "collapsed": true
   },
   "outputs": [],
   "source": []
  },
  {
   "cell_type": "code",
   "execution_count": 961,
   "metadata": {
    "collapsed": false
   },
   "outputs": [
    {
     "data": {
      "text/plain": [
       "{'1start': ([[5, 5, 2, 2], [3, 3, 0], 3],)}"
      ]
     },
     "execution_count": 961,
     "metadata": {},
     "output_type": "execute_result"
    }
   ],
   "source": [
    "lp={}\n",
    "for c in fk.items():\n",
    "    if c[1][2]==max(fk.items(), key=lambda x: x[1][2])[1][2]:\n",
    "        lp[c[0]]=c[1:]\n",
    "lp"
   ]
  },
  {
   "cell_type": "code",
   "execution_count": 918,
   "metadata": {
    "collapsed": false
   },
   "outputs": [
    {
     "data": {
      "text/plain": [
       "{'Hold 1st 3': ([[1, 3, 7, 3], [2, 2, 0], 2],),\n",
       " 'Hold 1st 4': ([[1, 3, 3, 7], [2, 2, 0], 2],),\n",
       " 'Hold 1st 5': ([[1, 3, 7, 3], [2, 2, 0], 2],),\n",
       " 'Hold 1st 6': ([[1, 3, 3, 7], [2, 2, 0], 2],),\n",
       " 'Hold 3rd 2': ([[1, 3, 3, 7], [2, 2, 0], 2],),\n",
       " 'Hold 3rd 3': ([[7, 1, 3, 3], [3, 2, 1], 2],),\n",
       " 'Hold 4th 2': ([[1, 3, 7, 3], [2, 2, 0], 2],),\n",
       " 'Hold 4th 3': ([[7, 1, 3, 3], [3, 2, 1], 2],)}"
      ]
     },
     "execution_count": 918,
     "metadata": {},
     "output_type": "execute_result"
    }
   ],
   "source": [
    "lp1={}\n",
    "for c in fk.items():\n",
    "    if c[1][2]==max(fk.items(), key=lambda x: x[1][2])[1][2]-1:\n",
    "        lp1[c[0]]=c[1:]\n",
    "lp1"
   ]
  },
  {
   "cell_type": "code",
   "execution_count": 854,
   "metadata": {
    "collapsed": false
   },
   "outputs": [
    {
     "data": {
      "text/plain": [
       "{}"
      ]
     },
     "execution_count": 854,
     "metadata": {},
     "output_type": "execute_result"
    }
   ],
   "source": [
    "lp1"
   ]
  },
  {
   "cell_type": "code",
   "execution_count": 752,
   "metadata": {
    "collapsed": false
   },
   "outputs": [
    {
     "data": {
      "text/plain": [
       "{0: [0, 0, 9], 1: [3, 3, 0, 3], 2: [3, 3, 0, 3], 3: [3, 3, 0, 3]}"
      ]
     },
     "execution_count": 752,
     "metadata": {},
     "output_type": "execute_result"
    }
   ],
   "source": [
    "## Max\n",
    "pp={}\n",
    "for x in range(4):\n",
    "    g=[]\n",
    "    for c in lp.items():\n",
    "        g.append(c[1][0][0][x])    \n",
    "    pp[x]= list(np.bincount(g))\n",
    "pp"
   ]
  },
  {
   "cell_type": "code",
   "execution_count": 753,
   "metadata": {
    "collapsed": false
   },
   "outputs": [
    {
     "data": {
      "text/plain": [
       "{0: [4, 4, 0, 4], 1: [1, 1, 4, 6], 2: [6, 1, 4, 1], 3: [1, 6, 4, 1]}"
      ]
     },
     "execution_count": 753,
     "metadata": {},
     "output_type": "execute_result"
    }
   ],
   "source": [
    "## 2nd_MAX\n",
    "pp1={}\n",
    "for x in range(4):\n",
    "    g=[]\n",
    "    for c in lp1.items():\n",
    "        g.append(c[1][0][0][x])    \n",
    "    pp1[x]= list(np.bincount(g))\n",
    "pp1"
   ]
  },
  {
   "cell_type": "code",
   "execution_count": 654,
   "metadata": {
    "collapsed": false
   },
   "outputs": [],
   "source": [
    "def flat(hdict,x):\n",
    "    for c in hdict.items():\n",
    "        print( c[1][0][x])"
   ]
  },
  {
   "cell_type": "code",
   "execution_count": 449,
   "metadata": {
    "collapsed": false
   },
   "outputs": [
    {
     "name": "stdout",
     "output_type": "stream",
     "text": [
      "1 fija: 2 pica: 0 sum_fp: 2\n",
      "[4, 2, 5, 3] [2, 2, 0]\n",
      "HOLD 1st [4, 3, 2, 5] [2, 0, 2] [4, 5, 3, 2] [2, 0, 2]\n",
      "HOLD 2nd [3, 2, 4, 5] [2, 2, 0] [5, 2, 3, 4] [2, 1, 1]\n",
      "HOLD 3rd [3, 4, 5, 2] [2, 1, 1] [2, 3, 5, 4] [2, 0, 2]\n",
      "HOLD 4th [5, 4, 2, 3] [2, 1, 1] [2, 5, 4, 3] [2, 1, 1]\n"
     ]
    },
    {
     "data": {
      "text/plain": [
       "{'1original': [[4, 2, 5, 3], [2, 2, 0], 2],\n",
       " 'HOLD 1stA': [[4, 3, 2, 5], [2, 0, 2], 0],\n",
       " 'HOLD 1stb': [[4, 5, 3, 2], [2, 0, 2], 0],\n",
       " 'HOLD 2ndA': [[3, 2, 4, 5], [2, 2, 0], 2],\n",
       " 'HOLD 2ndB': [[5, 2, 3, 4], [2, 1, 1], 1],\n",
       " 'HOLD 3rdA': [[3, 4, 5, 2], [2, 1, 1], 1],\n",
       " 'HOLD 3rdB': [[2, 3, 5, 4], [2, 0, 2], 0],\n",
       " 'HOLD 4thA': [[5, 4, 2, 3], [2, 1, 1], 1],\n",
       " 'HOLD 4thB': [[2, 5, 4, 3], [2, 1, 1], 1]}"
      ]
     },
     "execution_count": 449,
     "metadata": {},
     "output_type": "execute_result"
    }
   ],
   "source": [
    "s=0 #hold what index\n",
    "j=[4,2,5,3]\n",
    "#[0,1,2,3]\n",
    "fijas(pl2,j,testguess(pl2,j)) #get from  pica to 1 fija\n",
    "# next is \n",
    "fi={}\n",
    "fi['1original']=[j,testguess(pl2,j),testguess(pl2,j)[1]]\n",
    "print(j, testguess(pl2,j))\n",
    "if s ==0:\n",
    "\n",
    "    print('HOLD 1st',j[:1]+rotate(j[1:],1),testguess(pl2,j[:1]+rotate(j[1:],1))\n",
    "          ,j[:1]+rotate(j[1:],2),testguess(pl2,j[:1]+rotate(j[1:],2)))   \n",
    "fi['HOLD 1stA']=[j[:1]+rotate(j[1:],1),testguess(pl2,j[:1]+rotate(j[1:],1)),testguess(pl2,j[:1]+rotate(j[1:],1))[1]]\n",
    "fi['HOLD 1stb']=[j[:1]+rotate(j[1:],2),testguess(pl2,j[:1]+rotate(j[1:],2)),testguess(pl2,j[:1]+rotate(j[1:],2))[1]]\n",
    "if s==0:\n",
    "\n",
    "    print('HOLD 2nd',[j[3],j[1],j[0],j[2]],testguess(pl2,[j[3],j[1],j[0],j[2]])\n",
    "          ,[j[2],j[1],j[3],j[0]],testguess(pl2,[j[2],j[1],j[3],j[0]]) ) \n",
    "fi['HOLD 2ndA']=[[j[3],j[1],j[0],j[2]],testguess(pl2,[j[3],j[1],j[0],j[2]]),testguess(pl2,[j[3],j[1],j[0],j[2]])[1]]\n",
    "fi['HOLD 2ndB']=[[j[2],j[1],j[3],j[0]],testguess(pl2,[j[2],j[1],j[3],j[0]]),testguess(pl2,[j[2],j[1],j[3],j[0]])[1]]\n",
    "if s==0:\n",
    "    print('HOLD 3rd',[j[3],j[0],j[2],j[1]],testguess(pl2,[j[3],j[0],j[2],j[1]])\n",
    "          ,[j[1],j[3],j[2],j[0]],testguess(pl2,[j[1],j[3],j[2],j[0]]) )\n",
    "fi['HOLD 3rdA']=[[j[3],j[0],j[2],j[1]],testguess(pl2,[j[3],j[0],j[2],j[1]]),testguess(pl2,[j[3],j[0],j[2],j[1]])[1]]\n",
    "fi['HOLD 3rdB']=[[j[1],j[3],j[2],j[0]],testguess(pl2,[j[1],j[3],j[2],j[0]]),testguess(pl2,[j[1],j[3],j[2],j[0]])[1]]\n",
    "if s==0:\n",
    "    print('HOLD 4th',rotate(j[:3],1)+j[3:],testguess(pl2,rotate(j[:3],1)+j[3:])\n",
    "          ,rotate(j[:3],2)+j[3:],testguess(pl2,rotate(j[:3],2)+j[3:]) )\n",
    "fi['HOLD 4thA']=[rotate(j[:3],1)+j[3:],testguess(pl2,rotate(j[:3],1)+j[3:]),testguess(pl2,rotate(j[:3],1)+j[3:])[1]]\n",
    "fi['HOLD 4thB']=[rotate(j[:3],2)+j[3:],testguess(pl2,rotate(j[:3],2)+j[3:]),testguess(pl2,rotate(j[:3],2)+j[3:])[1]]\n",
    "fi"
   ]
  },
  {
   "cell_type": "code",
   "execution_count": 508,
   "metadata": {
    "collapsed": false
   },
   "outputs": [
    {
     "name": "stdout",
     "output_type": "stream",
     "text": [
      "('Hold 2nd 6', [[3, 1, 2, 0], [3, 3, 0], 3])\n",
      "('Hold 2nd 6', [[3, 1, 2, 0], [3, 3, 0], 3])\n",
      "('Hold 2nd 6', [[3, 1, 2, 0], [3, 3, 0], 3])\n",
      "('Hold 2nd 6', [[3, 1, 2, 0], [3, 3, 0], 3])\n",
      "('Hold 2nd 6', [[3, 1, 2, 0], [3, 3, 0], 3])\n",
      "('Hold 2nd 6', [[3, 1, 2, 0], [3, 3, 0], 3])\n",
      "('Hold 2nd 6', [[3, 1, 2, 0], [3, 3, 0], 3])\n",
      "('Hold 2nd 6', [[3, 1, 2, 0], [3, 3, 0], 3])\n",
      "('Hold 2nd 6', [[3, 1, 2, 0], [3, 3, 0], 3])\n",
      "('Hold 2nd 6', [[3, 1, 2, 0], [3, 3, 0], 3])\n",
      "('Hold 2nd 6', [[3, 1, 2, 0], [3, 3, 0], 3])\n",
      "('Hold 2nd 6', [[3, 1, 2, 0], [3, 3, 0], 3])\n",
      "('Hold 2nd 6', [[3, 1, 2, 0], [3, 3, 0], 3])\n",
      "('Hold 2nd 6', [[3, 1, 2, 0], [3, 3, 0], 3])\n",
      "('Hold 2nd 6', [[3, 1, 2, 0], [3, 3, 0], 3])\n",
      "('Hold 2nd 6', [[3, 1, 2, 0], [3, 3, 0], 3])\n",
      "('Hold 2nd 6', [[3, 1, 2, 0], [3, 3, 0], 3])\n",
      "('Hold 2nd 6', [[3, 1, 2, 0], [3, 3, 0], 3])\n",
      "('Hold 2nd 6', [[3, 1, 2, 0], [3, 3, 0], 3])\n",
      "('Hold 2nd 6', [[3, 1, 2, 0], [3, 3, 0], 3])\n"
     ]
    }
   ],
   "source": [
    "for x in fk.items():\n",
    "    if x[1][2]==max(fk.items(), key=lambda x: x[1][2]):\n",
    "    #[1][2] and x[1][0][0][0]==x[1][0][0][1]:\n",
    "        print( x)\n",
    "    else:\n",
    "        print( max(fk.items(), key=lambda x: x[1][2]))"
   ]
  },
  {
   "cell_type": "code",
   "execution_count": 358,
   "metadata": {
    "collapsed": false
   },
   "outputs": [
    {
     "name": "stdout",
     "output_type": "stream",
     "text": [
      "[8, 8, 9, 8] WIN\n",
      "[8, 8, 9, 8] WIN\n",
      "[8, 8, 9, 8] WIN\n",
      "[8, 8, 9, 8] WIN\n",
      "1 fija: 4 pica: 0 sum_fp: 4\n",
      "[8, 8, 9, 8] WIN\n",
      "[8, 8, 9, 8] WIN\n",
      "[8, 8, 9, 8] [4, 4, 0]\n",
      "HOLD 1st [8, 8, 8, 9] [3, 2, 1] [8, 9, 8, 8] [3, 2, 1]\n",
      "HOLD 2nd [8, 8, 8, 9] [3, 2, 1] [9, 8, 8, 8] [3, 2, 1]\n",
      "[8, 8, 9, 8] WIN\n",
      "[8, 8, 9, 8] WIN\n",
      "HOLD 3rd [8, 8, 9, 8] [4, 4, 0] [8, 8, 9, 8] [4, 4, 0]\n",
      "HOLD 4th [9, 8, 8, 8] [3, 2, 1] [8, 9, 8, 8] [3, 2, 1]\n"
     ]
    }
   ],
   "source": [
    "s=0 #hold what index\n",
    "j=[8,8,9,8]\n",
    "fijas(pl2,j,testguess(pl2,j)) #get from  pica to 1 fija\n",
    "# next is \n",
    "print(j, testguess(pl2,j))\n",
    "if s ==0:\n",
    "    #print([j[0],j[3],j[1],j[2]],j[:1]+rotate(j[1:],1),j[:1]+rotate(j[1:],2))\n",
    "    print('HOLD 1st',j[:1]+rotate(j[1:],1),testguess(pl2,j[:1]+rotate(j[1:],1))\n",
    "          ,j[:1]+rotate(j[1:],2),testguess(pl2,j[:1]+rotate(j[1:],2)))   \n",
    "\n",
    "if s==0:\n",
    "    #print([j[3],j[1],j[0],j[2]], [j[2],j[1],j[3],j[0]])\n",
    "    print('HOLD 2nd',[j[3],j[1],j[0],j[2]],testguess(pl2,[j[3],j[1],j[0],j[2]])\n",
    "          ,[j[2],j[1],j[3],j[0]],testguess(pl2,[j[2],j[1],j[3],j[0]]) )   \n",
    "if s==0:\n",
    "    #print([j[3],j[0],j[2],j[1]], [j[1],j[3],j[2],j[0]])\n",
    "    print('HOLD 3rd',[j[3],j[0],j[2],j[1]],testguess(pl2,[j[3],j[0],j[2],j[1]])\n",
    "          ,[j[1],j[3],j[2],j[0]],testguess(pl2,[j[1],j[3],j[2],j[0]]) )   \n",
    "if s==0:\n",
    "    #print([j[2],j[0],j[1],j[3]],rotate(j[:3],1)+j[3:],rotate(j[:3],2)+j[3:])\n",
    "    print('HOLD 4th',rotate(j[:3],1)+j[3:],testguess(pl2,rotate(j[:3],1)+j[3:])\n",
    "          ,rotate(j[:3],2)+j[3:],testguess(pl2,rotate(j[:3],2)+j[3:]) )  "
   ]
  },
  {
   "cell_type": "code",
   "execution_count": 453,
   "metadata": {
    "collapsed": false
   },
   "outputs": [
    {
     "data": {
      "text/plain": [
       "[(2, 5, 3), (2, 3, 5), (5, 2, 3), (5, 3, 2), (3, 2, 5), (3, 5, 2)]"
      ]
     },
     "execution_count": 453,
     "metadata": {},
     "output_type": "execute_result"
    }
   ],
   "source": [
    "list(it.permutations(j[1:],3))"
   ]
  },
  {
   "cell_type": "code",
   "execution_count": 359,
   "metadata": {
    "collapsed": false
   },
   "outputs": [
    {
     "name": "stdout",
     "output_type": "stream",
     "text": [
      "[8, 8, 9, 8] WIN\n"
     ]
    },
    {
     "data": {
      "text/plain": [
       "[4, 4, 0]"
      ]
     },
     "execution_count": 359,
     "metadata": {},
     "output_type": "execute_result"
    }
   ],
   "source": [
    "#testguess(pl2,j[:1]+rotate(j[1:],3))\n",
    "testguess(pl2,[8,8,9,8])"
   ]
  },
  {
   "cell_type": "code",
   "execution_count": 69,
   "metadata": {
    "collapsed": false
   },
   "outputs": [
    {
     "data": {
      "text/plain": [
       "[1, 1, 0]"
      ]
     },
     "execution_count": 69,
     "metadata": {},
     "output_type": "execute_result"
    }
   ],
   "source": [
    "testguess(pl2,j)"
   ]
  },
  {
   "cell_type": "code",
   "execution_count": null,
   "metadata": {
    "collapsed": true
   },
   "outputs": [],
   "source": [
    "def know(answer,guess):\n",
    "    original=guess.copy()\n",
    "    validate = [1,1,1,1]\n",
    "    for i,x in enumerate(answer[0]):\n",
    "        if i==0:\n",
    "            validate[answer[0].index(x)]=x\n",
    "            \n",
    "        \n",
    "        print([,answer[0].index(x),])\n",
    "    return x"
   ]
  },
  {
   "cell_type": "code",
   "execution_count": null,
   "metadata": {
    "collapsed": false
   },
   "outputs": [],
   "source": [
    "# random till get a pica or fija even duplicates all 4 to 2 same number\n",
    "# start with random unique numbers\n",
    "#0123     KNOW 0  NONE 0,1,3,4,5,6\n",
    "gggues = [8,7,9,2]\n",
    "# for index,gus in enumerate(gggues):\n",
    "#     #gus = Y#[rd.randint(0,9),rd.randint(0,9),rd.randint(0,9),rd.randint(0,9)]\n",
    "#     #print(gus)\n",
    "fijas = 0\n",
    "picas = 0\n",
    "for z in set(gggues):\n",
    "    #print(z)\n",
    "#matches = set(pl2).intersection(set(guess))\n",
    "    fij = len(set([i for i,x in enumerate(pl2) if x == z]).intersection([i for i,x in enumerate(gggues) if x == z]))\n",
    "    if fij>0:\n",
    "    #print(fij)\n",
    "        fijas += fij\n",
    "    else:\n",
    "        if z in pl2:\n",
    "            picas += 1\n",
    "print('fijas:',fijas,',','picas:',picas)\n",
    "if fijas ==4:\n",
    "    print(index,gggues,'WIN')\n",
    "    #print('fijas:',fijas,',','picas:',picas)\n",
    "    #break\n",
    "# Start on [1,2,3,4]\n",
    "#Strategy 1 when Fija:0 Pica:1\n",
    "#iterate with existing none 0 sums till get fijas\n",
    "#then try new/existing number\n",
    "#WHAT ABOUT DOUBLE \n",
    "#ROTATE TO GET FIJA THEN LOSE IT THEN GO BACK THEN\n",
    "#HOLD FIRST THEN ROTATE OTHERS TILL LOSE FIJA THEN GO BACK REPEAT\n",
    "#IF ROTATE AND NOT LOSE THEN FIRST NUMBER IS FIJA (REMEMBER OTHER NUMBERS not in answer)\n",
    "\n",
    "#if have fija skip to freeze 1st iterate others\n",
    "#lose fija go back not first. hold second rotate others /remeber which is fija\n",
    "#rotate other 2\n",
    "\n",
    "#no change in fija can mean duplicates"
   ]
  },
  {
   "cell_type": "code",
   "execution_count": 398,
   "metadata": {
    "collapsed": false
   },
   "outputs": [
    {
     "name": "stdout",
     "output_type": "stream",
     "text": [
      "6 1 10 9\n"
     ]
    }
   ],
   "source": [
    "print(len(list(it.permutations('021',3)))\n",
    ",len(list(it.combinations('021',3)))\n",
    ",len(list(it.combinations_with_replacement('021',3)))\n",
    ",len(list(it.product('021','021','021'))))"
   ]
  },
  {
   "cell_type": "code",
   "execution_count": 410,
   "metadata": {
    "collapsed": false
   },
   "outputs": [],
   "source": [
    "#list(it.product('021','021','021'))"
   ]
  },
  {
   "cell_type": "code",
   "execution_count": 411,
   "metadata": {
    "collapsed": false
   },
   "outputs": [
    {
     "data": {
      "text/plain": [
       "[('0', '2', '1'),\n",
       " ('0', '1', '2'),\n",
       " ('2', '0', '1'),\n",
       " ('2', '1', '0'),\n",
       " ('1', '0', '2'),\n",
       " ('1', '2', '0')]"
      ]
     },
     "execution_count": 411,
     "metadata": {},
     "output_type": "execute_result"
    }
   ],
   "source": [
    "#list(it.product('021','021','021'))\n",
    "list(it.permutations('021',3))"
   ]
  },
  {
   "cell_type": "code",
   "execution_count": null,
   "metadata": {
    "collapsed": true
   },
   "outputs": [],
   "source": [
    "##fijas: 1 , picas: 1\n",
    "SUM then hold that many numbers constant\n",
    "REPLACE other random  New(not used yet) or existing? and same number n times or different numbers each substitute\n",
    "#keep 2 replace exisiting same number\n",
    "##fijas: 1 , picas: 0\n",
    "sum < new sum & lose a pica/fija\n",
    "IF PRIOR SUM WAS BETTER GO BACK/modify other way previous guess\n",
    "remember last guess\n",
    "remember what number Held constant and position\n",
    "switch one number with what was held prior because\n",
    "lose fija switch back\n",
    "regain pica\n",
    "save number for final solution, remember what is not in number\n",
    "sum\n",
    "guess new number keep constant except the one you already know"
   ]
  },
  {
   "cell_type": "code",
   "execution_count": null,
   "metadata": {
    "collapsed": true
   },
   "outputs": [],
   "source": []
  }
 ],
 "metadata": {
  "anaconda-cloud": {},
  "kernelspec": {
   "display_name": "Python [Root]",
   "language": "python",
   "name": "Python [Root]"
  },
  "language_info": {
   "codemirror_mode": {
    "name": "ipython",
    "version": 3
   },
   "file_extension": ".py",
   "mimetype": "text/x-python",
   "name": "python",
   "nbconvert_exporter": "python",
   "pygments_lexer": "ipython3",
   "version": "3.5.2"
  }
 },
 "nbformat": 4,
 "nbformat_minor": 0
}
